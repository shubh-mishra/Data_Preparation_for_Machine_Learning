{
  "nbformat": 4,
  "nbformat_minor": 0,
  "metadata": {
    "colab": {
      "provenance": []
    },
    "kernelspec": {
      "name": "python3",
      "display_name": "Python 3"
    },
    "language_info": {
      "name": "python"
    }
  },
  "cells": [
    {
      "cell_type": "markdown",
      "source": [
        "# Dimensionality Reduction using Linear Discriminent Analysis (LDA)"
      ],
      "metadata": {
        "id": "u-OvE3BEVL8g"
      }
    },
    {
      "cell_type": "code",
      "execution_count": 3,
      "metadata": {
        "id": "WVtoCeV1VBEo"
      },
      "outputs": [],
      "source": [
        "import pandas as pd\n",
        "import numpy as np\n",
        "import matplotlib.pyplot as plt\n",
        "from sklearn.datasets import make_classification\n",
        "from sklearn.model_selection import RepeatedStratifiedKFold, cross_val_score\n",
        "from sklearn.discriminant_analysis import LinearDiscriminantAnalysis\n",
        "from sklearn.naive_bayes import GaussianNB\n",
        "from sklearn.pipeline import Pipeline"
      ]
    },
    {
      "cell_type": "code",
      "source": [
        "def get_dataset():\n",
        "  X, y = make_classification(n_samples=1000, n_features=20, n_informative=15, n_redundant=5, n_classes=10, random_state=42)\n",
        "  return X, y"
      ],
      "metadata": {
        "id": "x_tXd0xvWBuV"
      },
      "execution_count": 11,
      "outputs": []
    },
    {
      "cell_type": "code",
      "source": [
        "def get_models():\n",
        "  models = dict()\n",
        "  for i in range(1, 10):\n",
        "    lda = LinearDiscriminantAnalysis(n_components=i)\n",
        "    model = GaussianNB()\n",
        "    steps = [('lda', lda), ('m', model)]\n",
        "    models[str(i)] = Pipeline(steps=steps)\n",
        "  return models"
      ],
      "metadata": {
        "id": "vZVTuWw_WULn"
      },
      "execution_count": 9,
      "outputs": []
    },
    {
      "cell_type": "code",
      "source": [
        "def evaluate_models(model, X, y):\n",
        "  cv = RepeatedStratifiedKFold(n_splits=10, n_repeats=3, random_state=42)\n",
        "  n_scores = cross_val_score(model, X, y, scoring='accuracy', cv=cv, n_jobs=-1, error_score='raise')\n",
        "  return n_scores"
      ],
      "metadata": {
        "id": "T_hD4zBSXsc7"
      },
      "execution_count": 5,
      "outputs": []
    },
    {
      "cell_type": "code",
      "source": [
        "X, y = get_dataset()\n",
        "models = get_models()\n",
        "results = list()\n",
        "names = list()\n",
        "for name, model in models.items():\n",
        "  score = evaluate_models(model, X, y)\n",
        "  results.append(score)\n",
        "  names.append(name)\n",
        "  print(f\"Model: {name}, Accuracy: {np.mean(score):.3f} ({np.std(score):.3f})\")"
      ],
      "metadata": {
        "colab": {
          "base_uri": "https://localhost:8080/"
        },
        "id": "-kRcKoYSYXbD",
        "outputId": "570b623a-5993-4f08-87df-8625fdf7849b"
      },
      "execution_count": 12,
      "outputs": [
        {
          "output_type": "stream",
          "name": "stdout",
          "text": [
            "Model: 1, Accuracy: 0.201 (0.033)\n",
            "Model: 2, Accuracy: 0.278 (0.036)\n",
            "Model: 3, Accuracy: 0.300 (0.037)\n",
            "Model: 4, Accuracy: 0.321 (0.043)\n",
            "Model: 5, Accuracy: 0.334 (0.044)\n",
            "Model: 6, Accuracy: 0.353 (0.048)\n",
            "Model: 7, Accuracy: 0.363 (0.051)\n",
            "Model: 8, Accuracy: 0.377 (0.046)\n",
            "Model: 9, Accuracy: 0.374 (0.046)\n"
          ]
        }
      ]
    },
    {
      "cell_type": "code",
      "source": [
        "plt.boxplot(results, labels=names, showmeans=True)\n",
        "plt.show()"
      ],
      "metadata": {
        "colab": {
          "base_uri": "https://localhost:8080/",
          "height": 265
        },
        "id": "fcubA0VIZYvr",
        "outputId": "57251cba-897d-4157-c3bb-d58664767ef6"
      },
      "execution_count": 13,
      "outputs": [
        {
          "output_type": "display_data",
          "data": {
            "text/plain": [
              "<Figure size 432x288 with 1 Axes>"
            ],
            "image/png": "[encoded data removed]"
          },
          "metadata": {
            "needs_background": "light"
          }
        }
      ]
    },
    {
      "cell_type": "code",
      "source": [],
      "metadata": {
        "id": "PakBXbE9bXrs"
      },
      "execution_count": null,
      "outputs": []
    }
  ]
}