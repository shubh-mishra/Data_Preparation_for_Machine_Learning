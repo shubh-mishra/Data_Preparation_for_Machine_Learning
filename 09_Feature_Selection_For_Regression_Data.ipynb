{
  "nbformat": 4,
  "nbformat_minor": 0,
  "metadata": {
    "colab": {
      "provenance": []
    },
    "kernelspec": {
      "name": "python3",
      "display_name": "Python 3"
    },
    "language_info": {
      "name": "python"
    }
  },
  "cells": [
    {
      "cell_type": "markdown",
      "source": [
        "# Perform feature selection on regression data"
      ],
      "metadata": {
        "id": "Xxe_2WdKl8H_"
      }
    },
    {
      "cell_type": "markdown",
      "source": [
        "## 0. Introduction\n",
        "\n",
        "This notebook contains:\n",
        "  1. Correlation feature selection\n",
        "  2. Mutual information feature selection"
      ],
      "metadata": {
        "id": "lOhXAo-GmEKq"
      }
    },
    {
      "cell_type": "markdown",
      "source": [
        "## 1. Correlation feature selection"
      ],
      "metadata": {
        "id": "NJTPQsNwmXH8"
      }
    },
    {
      "cell_type": "code",
      "execution_count": null,
      "metadata": {
        "id": "bNPk0f9Wljb2"
      },
      "outputs": [],
      "source": [
        "from sklearn.datasets import make_regression\n",
        "from sklearn.feature_selection import SelectKBest, f_regression, mutual_info_regression\n",
        "from sklearn.model_selection import train_test_split\n",
        "from sklearn.linear_model import LinearRegression\n",
        "from sklearn.metrics import mean_absolute_error"
      ]
    },
    {
      "cell_type": "code",
      "source": [
        "def get_dataset():\n",
        "  X, y = make_regression(n_samples=1000, n_features=100, n_informative=10, noise=0.1, random_state=42)\n",
        "  return X, y"
      ],
      "metadata": {
        "id": "qCPKh6cQn2kW"
      },
      "execution_count": null,
      "outputs": []
    },
    {
      "cell_type": "code",
      "source": [
        "def corr_feature_selection(X_train, y_train, X_test):\n",
        "  fs = SelectKBest(score_func=f_regression, k=88)\n",
        "  fs.fit(X_train, y_train)\n",
        "  X_train_fs = fs.transform(X_train)\n",
        "  X_test_fs = fs.transform(X_test)\n",
        "  return X_train_fs, X_test_fs, fs\n"
      ],
      "metadata": {
        "id": "Aw4-p59GoT30"
      },
      "execution_count": null,
      "outputs": []
    },
    {
      "cell_type": "code",
      "source": [
        "X, y = get_dataset()\n",
        "X_train, X_test, y_train, y_test = train_test_split(X, y, test_size=.2, random_state=42)\n",
        "X_train_fs, X_test_fs, fs = corr_feature_selection(X_train, y_train, X_test)\n",
        "model = LinearRegression()\n",
        "model.fit(X_train_fs, y_train)\n",
        "y_preds = model.predict(X_test_fs)\n",
        "mae = mean_absolute_error(y_test, y_preds)\n",
        "print(f\"MAE: {mae:.5f}\")"
      ],
      "metadata": {
        "colab": {
          "base_uri": "https://localhost:8080/"
        },
        "id": "UXpaaU_5pRt5",
        "outputId": "e984286a-3dcb-418f-d5e1-99b68a1d7454"
      },
      "execution_count": null,
      "outputs": [
        {
          "output_type": "stream",
          "name": "stdout",
          "text": [
            "MAE: 0.08060\n"
          ]
        }
      ]
    },
    {
      "cell_type": "markdown",
      "source": [
        "## 2. Mutual information feature selection"
      ],
      "metadata": {
        "id": "vNp84fcTq8Kd"
      }
    },
    {
      "cell_type": "code",
      "source": [
        "def mi_feature_selection(X_train, y_train, X_test):\n",
        "  fs = SelectKBest(score_func=mutual_info_regression, k=88)\n",
        "  fs.fit(X_train, y_train)\n",
        "  X_train_fs = fs.transform(X_train)\n",
        "  X_test_fs = fs.transform(X_test)\n",
        "  return X_train_fs, X_test_fs, fs"
      ],
      "metadata": {
        "id": "3beUmpo3qVdo"
      },
      "execution_count": null,
      "outputs": []
    },
    {
      "cell_type": "code",
      "source": [
        "X, y = get_dataset()\n",
        "X_train, X_test, y_train, y_test = train_test_split(X, y, test_size=.2, random_state=42)\n",
        "X_train_fs, X_test_fs, fs = mi_feature_selection(X_train, y_train, X_test)\n",
        "model = LinearRegression()\n",
        "model.fit(X_train_fs, y_train)\n",
        "y_preds = model.predict(X_test_fs)\n",
        "mae = mean_absolute_error(y_test, y_preds)\n",
        "print(f\"MAE: {mae:.5f}\")"
      ],
      "metadata": {
        "colab": {
          "base_uri": "https://localhost:8080/"
        },
        "id": "A0fDbJAardl3",
        "outputId": "14a574c1-5709-4b8a-e914-090de8bc9b69"
      },
      "execution_count": null,
      "outputs": [
        {
          "output_type": "stream",
          "name": "stdout",
          "text": [
            "MAE: 7.45128\n"
          ]
        }
      ]
    },
    {
      "cell_type": "code",
      "source": [],
      "metadata": {
        "id": "b7UJU4Q5sLhF"
      },
      "execution_count": null,
      "outputs": []
    }
  ]
}