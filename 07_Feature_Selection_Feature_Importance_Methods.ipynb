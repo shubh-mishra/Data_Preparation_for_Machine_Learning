{
  "nbformat": 4,
  "nbformat_minor": 0,
  "metadata": {
    "colab": {
      "provenance": []
    },
    "kernelspec": {
      "name": "python3",
      "display_name": "Python 3"
    },
    "language_info": {
      "name": "python"
    }
  },
  "cells": [
    {
      "cell_type": "markdown",
      "source": [
        "# Feature Selection - Feature importance methods"
      ],
      "metadata": {
        "id": "p0RU9hevHdw-"
      }
    },
    {
      "cell_type": "markdown",
      "source": [
        "## 0. Introductions\n",
        "\n",
        "This notebook contains:\n",
        "  1. Test dataset\n",
        "  2. Linear Regression feature importance\n",
        "  3. Logistic Regression feature importance\n",
        "  4. CART feature importance\n",
        "  5. Random Forest feature importance\n",
        "  6. XGBoost feature importance\n",
        "  7. Feature selection with feature importance\n"
      ],
      "metadata": {
        "id": "mvKOCApEHm4E"
      }
    },
    {
      "cell_type": "markdown",
      "source": [
        "## 1. Test dataset"
      ],
      "metadata": {
        "id": "KUyQx_-1IZBK"
      }
    },
    {
      "cell_type": "code",
      "execution_count": 47,
      "metadata": {
        "id": "FAxXev6nFDzs"
      },
      "outputs": [],
      "source": [
        "import pandas as pd\n",
        "import numpy as np\n",
        "import matplotlib.pyplot as plt\n",
        "from sklearn.datasets import make_classification, make_regression\n",
        "from sklearn.linear_model import LinearRegression, LogisticRegression\n",
        "from sklearn.tree import DecisionTreeClassifier, DecisionTreeRegressor\n",
        "from sklearn.ensemble import RandomForestClassifier, RandomForestRegressor\n",
        "from xgboost import XGBClassifier, XGBRegressor\n",
        "from sklearn.model_selection import train_test_split\n",
        "from sklearn.metrics import accuracy_score\n",
        "from sklearn.feature_selection import SelectFromModel"
      ]
    },
    {
      "cell_type": "markdown",
      "source": [
        "### 1.1 Classification dataset"
      ],
      "metadata": {
        "id": "otgeNZnGI456"
      }
    },
    {
      "cell_type": "code",
      "source": [
        "X, y = make_classification(n_samples=1000, n_features=10, n_informative=5, n_redundant=5, random_state=42)\n",
        "X.shape, y.shape"
      ],
      "metadata": {
        "colab": {
          "base_uri": "https://localhost:8080/"
        },
        "id": "zze8wzZTI3Wf",
        "outputId": "02c3d827-c5ef-43a4-b907-4580c7132a91"
      },
      "execution_count": 28,
      "outputs": [
        {
          "output_type": "execute_result",
          "data": {
            "text/plain": [
              "((1000, 10), (1000,))"
            ]
          },
          "metadata": {},
          "execution_count": 28
        }
      ]
    },
    {
      "cell_type": "markdown",
      "source": [
        "### 1.2 Regression dataset"
      ],
      "metadata": {
        "id": "IKpU84dzJkQ8"
      }
    },
    {
      "cell_type": "code",
      "source": [
        "X, y = make_regression(n_samples=1000, n_features=10, n_informative=5, random_state=42)\n",
        "X.shape, y.shape"
      ],
      "metadata": {
        "colab": {
          "base_uri": "https://localhost:8080/"
        },
        "id": "YZoKqULzJdmf",
        "outputId": "74a363f5-b468-4217-8156-9c1da90b130a"
      },
      "execution_count": 29,
      "outputs": [
        {
          "output_type": "execute_result",
          "data": {
            "text/plain": [
              "((1000, 10), (1000,))"
            ]
          },
          "metadata": {},
          "execution_count": 29
        }
      ]
    },
    {
      "cell_type": "markdown",
      "source": [
        "## 2. Linear Regression feature importance"
      ],
      "metadata": {
        "id": "QRdAs5cJKxMk"
      }
    },
    {
      "cell_type": "code",
      "source": [
        "X, y = make_regression(n_samples=1000, n_features=10, n_informative=5, random_state=42)\n",
        "\n",
        "model = LinearRegression()\n",
        "model.fit(X, y)\n",
        "importance = model.coef_\n",
        "\n",
        "for i,v in enumerate(importance):\n",
        "  print(f\"Feature: {i}, Score: {v:.3f}\")\n",
        "\n",
        "plt.bar([x for x in range(len(importance))], importance)\n",
        "plt.show()"
      ],
      "metadata": {
        "colab": {
          "base_uri": "https://localhost:8080/",
          "height": 439
        },
        "id": "7C6dzRVGJ1gi",
        "outputId": "17f22009-1d79-42c5-eb1e-9e96f9918306"
      },
      "execution_count": 30,
      "outputs": [
        {
          "output_type": "stream",
          "name": "stdout",
          "text": [
            "Feature: 0, Score: 0.000\n",
            "Feature: 1, Score: 10.302\n",
            "Feature: 2, Score: 7.181\n",
            "Feature: 3, Score: -0.000\n",
            "Feature: 4, Score: -0.000\n",
            "Feature: 5, Score: -0.000\n",
            "Feature: 6, Score: -0.000\n",
            "Feature: 7, Score: 32.126\n",
            "Feature: 8, Score: 9.428\n",
            "Feature: 9, Score: 58.287\n"
          ]
        },
        {
          "output_type": "display_data",
          "data": {
            "text/plain": [
              "<Figure size 432x288 with 1 Axes>"
            ],
            "image/png": "[encoded data removed]"
          },
          "metadata": {
            "needs_background": "light"
          }
        }
      ]
    },
    {
      "cell_type": "markdown",
      "source": [
        "## 3. Logistic regression"
      ],
      "metadata": {
        "id": "l5S54qxdVmwD"
      }
    },
    {
      "cell_type": "code",
      "source": [
        "X, y = make_classification(n_samples=1000, n_features=10, n_informative=5, n_redundant=5, random_state=42)\n",
        "\n",
        "model = LogisticRegression()\n",
        "model.fit(X, y)\n",
        "\n",
        "importance = model.coef_[0]\n",
        "\n",
        "for i,v in enumerate(importance):\n",
        "  print(f\"Feature: {i}, Score: {v:.3f}\")"
      ],
      "metadata": {
        "colab": {
          "base_uri": "https://localhost:8080/"
        },
        "id": "FexJSLbsOHX8",
        "outputId": "9bc76e1d-852a-483e-ae95-77ae502dae0c"
      },
      "execution_count": 31,
      "outputs": [
        {
          "output_type": "stream",
          "name": "stdout",
          "text": [
            "Feature: 0, Score: 0.084\n",
            "Feature: 1, Score: -0.229\n",
            "Feature: 2, Score: 0.303\n",
            "Feature: 3, Score: -0.580\n",
            "Feature: 4, Score: -0.057\n",
            "Feature: 5, Score: 0.112\n",
            "Feature: 6, Score: -0.360\n",
            "Feature: 7, Score: -0.208\n",
            "Feature: 8, Score: -0.044\n",
            "Feature: 9, Score: 0.197\n"
          ]
        }
      ]
    },
    {
      "cell_type": "code",
      "source": [
        "plt.bar([x for x in range(len(importance))], importance)\n",
        "plt.show()"
      ],
      "metadata": {
        "colab": {
          "base_uri": "https://localhost:8080/",
          "height": 265
        },
        "id": "NhJXHjoKWnA8",
        "outputId": "78af7470-2a0a-49a3-ec46-901dbe7d71fc"
      },
      "execution_count": 32,
      "outputs": [
        {
          "output_type": "display_data",
          "data": {
            "text/plain": [
              "<Figure size 432x288 with 1 Axes>"
            ],
            "image/png": "[encoded data removed]"
          },
          "metadata": {
            "needs_background": "light"
          }
        }
      ]
    },
    {
      "cell_type": "markdown",
      "source": [
        "## 4. CART feature importance "
      ],
      "metadata": {
        "id": "mSZOAqvoX5dn"
      }
    },
    {
      "cell_type": "markdown",
      "source": [
        "### 4.1 DecisionTreeClassifier"
      ],
      "metadata": {
        "id": "knU09KaJZL3I"
      }
    },
    {
      "cell_type": "code",
      "source": [
        "X, y = make_classification(n_samples=1000, n_features=10, n_informative=5, n_redundant=5, random_state=42)\n",
        "model = DecisionTreeClassifier()\n",
        "model.fit(X, y)\n",
        "importance = model.feature_importances_\n",
        "for i, v in enumerate(importance):\n",
        "  print(f\"Feature: {i}, Score: {v:.3f}\")"
      ],
      "metadata": {
        "colab": {
          "base_uri": "https://localhost:8080/"
        },
        "id": "SjDtEqT_XvqH",
        "outputId": "00a64c57-dcf2-47a6-ac0a-4d0348f0f848"
      },
      "execution_count": 33,
      "outputs": [
        {
          "output_type": "stream",
          "name": "stdout",
          "text": [
            "Feature: 0, Score: 0.033\n",
            "Feature: 1, Score: 0.085\n",
            "Feature: 2, Score: 0.045\n",
            "Feature: 3, Score: 0.471\n",
            "Feature: 4, Score: 0.116\n",
            "Feature: 5, Score: 0.072\n",
            "Feature: 6, Score: 0.037\n",
            "Feature: 7, Score: 0.100\n",
            "Feature: 8, Score: 0.012\n",
            "Feature: 9, Score: 0.028\n"
          ]
        }
      ]
    },
    {
      "cell_type": "code",
      "source": [
        "plt.bar([x for x in range(len(importance))], importance)\n",
        "plt.show()"
      ],
      "metadata": {
        "colab": {
          "base_uri": "https://localhost:8080/",
          "height": 265
        },
        "id": "yxp2KR1wY7_Z",
        "outputId": "ae7499de-aeeb-418e-8767-a7f9f941270b"
      },
      "execution_count": 34,
      "outputs": [
        {
          "output_type": "display_data",
          "data": {
            "text/plain": [
              "<Figure size 432x288 with 1 Axes>"
            ],
            "image/png": "[encoded data removed]"
          },
          "metadata": {
            "needs_background": "light"
          }
        }
      ]
    },
    {
      "cell_type": "markdown",
      "source": [
        "### 4.2 DecisionTreeRegressor"
      ],
      "metadata": {
        "id": "GvMDYmcmZRyF"
      }
    },
    {
      "cell_type": "code",
      "source": [
        "X, y = make_regression(n_samples=1000, n_features=10, n_informative=5, random_state=42)\n",
        "model = DecisionTreeRegressor()\n",
        "model.fit(X, y)\n",
        "importance = model.feature_importances_\n",
        "for i,v in enumerate(importance):\n",
        "  print(f\"Feature: {i}, Score: {v:.3f}\")"
      ],
      "metadata": {
        "colab": {
          "base_uri": "https://localhost:8080/"
        },
        "id": "3k1gc_AkZHFl",
        "outputId": "da09f883-37a6-49be-92fc-fce5dd1294da"
      },
      "execution_count": 35,
      "outputs": [
        {
          "output_type": "stream",
          "name": "stdout",
          "text": [
            "Feature: 0, Score: 0.004\n",
            "Feature: 1, Score: 0.022\n",
            "Feature: 2, Score: 0.007\n",
            "Feature: 3, Score: 0.001\n",
            "Feature: 4, Score: 0.002\n",
            "Feature: 5, Score: 0.002\n",
            "Feature: 6, Score: 0.003\n",
            "Feature: 7, Score: 0.220\n",
            "Feature: 8, Score: 0.011\n",
            "Feature: 9, Score: 0.728\n"
          ]
        }
      ]
    },
    {
      "cell_type": "code",
      "source": [
        "plt.bar([x for x in range(len(importance))], importance)\n",
        "plt.show()"
      ],
      "metadata": {
        "colab": {
          "base_uri": "https://localhost:8080/",
          "height": 265
        },
        "id": "0qz7z81NaKql",
        "outputId": "8660ab8b-808c-41de-a4cd-6de01f669c30"
      },
      "execution_count": 36,
      "outputs": [
        {
          "output_type": "display_data",
          "data": {
            "text/plain": [
              "<Figure size 432x288 with 1 Axes>"
            ],
            "image/png": "[encoded data removed]"
          },
          "metadata": {
            "needs_background": "light"
          }
        }
      ]
    },
    {
      "cell_type": "markdown",
      "source": [
        "## 5. Random Forest feature importance"
      ],
      "metadata": {
        "id": "ZnZIx3X9anOA"
      }
    },
    {
      "cell_type": "markdown",
      "source": [
        "### 5.1 RandomForestClassifier"
      ],
      "metadata": {
        "id": "I3sE8lkSax1i"
      }
    },
    {
      "cell_type": "code",
      "source": [
        "X, y = make_classification(n_samples=1000, n_features=10, n_informative=5, n_redundant=5, random_state=42)\n",
        "model = RandomForestClassifier()\n",
        "model.fit(X, y)\n",
        "importance = model.feature_importances_\n",
        "for i,v in enumerate(importance):\n",
        "  print(f\"Feature: {i}, Score: {v:.3f}\")"
      ],
      "metadata": {
        "colab": {
          "base_uri": "https://localhost:8080/"
        },
        "id": "MIIqJt95aXMF",
        "outputId": "3680af93-bef3-4e42-d1af-7ba14fce86d3"
      },
      "execution_count": 37,
      "outputs": [
        {
          "output_type": "stream",
          "name": "stdout",
          "text": [
            "Feature: 0, Score: 0.034\n",
            "Feature: 1, Score: 0.101\n",
            "Feature: 2, Score: 0.053\n",
            "Feature: 3, Score: 0.280\n",
            "Feature: 4, Score: 0.137\n",
            "Feature: 5, Score: 0.074\n",
            "Feature: 6, Score: 0.076\n",
            "Feature: 7, Score: 0.129\n",
            "Feature: 8, Score: 0.037\n",
            "Feature: 9, Score: 0.079\n"
          ]
        }
      ]
    },
    {
      "cell_type": "code",
      "source": [
        "plt.bar([x for x in range(len(importance))], importance)\n",
        "plt.show()"
      ],
      "metadata": {
        "colab": {
          "base_uri": "https://localhost:8080/",
          "height": 265
        },
        "id": "6trJ4oKTblY0",
        "outputId": "bdcd9c26-e2d6-4b69-cf2a-28bb84bbaf94"
      },
      "execution_count": 38,
      "outputs": [
        {
          "output_type": "display_data",
          "data": {
            "text/plain": [
              "<Figure size 432x288 with 1 Axes>"
            ],
            "image/png": "[encoded data removed]"
          },
          "metadata": {
            "needs_background": "light"
          }
        }
      ]
    },
    {
      "cell_type": "markdown",
      "source": [
        "### 5.2 RandomForestRegressor"
      ],
      "metadata": {
        "id": "2fhx0EDqbxXk"
      }
    },
    {
      "cell_type": "code",
      "source": [
        "X, y = make_regression(n_samples=1000, n_features=10, n_informative=5, random_state=42)\n",
        "model = RandomForestRegressor()\n",
        "model.fit(X, y)\n",
        "importance = model.feature_importances_\n",
        "for i,v in enumerate(importance):\n",
        "  print(f\"Feature: {i}, Score: {v:.3f}\")"
      ],
      "metadata": {
        "colab": {
          "base_uri": "https://localhost:8080/"
        },
        "id": "3VZMDzjhbvTB",
        "outputId": "8e23b7dc-f398-4668-d179-a9c1eaf3d978"
      },
      "execution_count": 39,
      "outputs": [
        {
          "output_type": "stream",
          "name": "stdout",
          "text": [
            "Feature: 0, Score: 0.004\n",
            "Feature: 1, Score: 0.015\n",
            "Feature: 2, Score: 0.007\n",
            "Feature: 3, Score: 0.003\n",
            "Feature: 4, Score: 0.003\n",
            "Feature: 5, Score: 0.003\n",
            "Feature: 6, Score: 0.004\n",
            "Feature: 7, Score: 0.213\n",
            "Feature: 8, Score: 0.012\n",
            "Feature: 9, Score: 0.737\n"
          ]
        }
      ]
    },
    {
      "cell_type": "code",
      "source": [
        "plt.bar([x for x in range(len(importance))], importance)\n",
        "plt.show()"
      ],
      "metadata": {
        "colab": {
          "base_uri": "https://localhost:8080/",
          "height": 265
        },
        "id": "5IUjDfQxcUoT",
        "outputId": "829730de-f0d0-4208-bc80-03c4a9b467ae"
      },
      "execution_count": 40,
      "outputs": [
        {
          "output_type": "display_data",
          "data": {
            "text/plain": [
              "<Figure size 432x288 with 1 Axes>"
            ],
            "image/png": "[encoded data removed]"
          },
          "metadata": {
            "needs_background": "light"
          }
        }
      ]
    },
    {
      "cell_type": "markdown",
      "source": [
        "## 6. XGBoost feature importance"
      ],
      "metadata": {
        "id": "MAReb-0hceIt"
      }
    },
    {
      "cell_type": "markdown",
      "source": [
        "### 6.1 XGBClassifier"
      ],
      "metadata": {
        "id": "ZGqU402Hc-1O"
      }
    },
    {
      "cell_type": "code",
      "source": [
        "X, y = make_classification(n_samples=1000, n_features=10, n_informative=5, n_redundant=5, random_state=42)\n",
        "model = XGBClassifier()\n",
        "model.fit(X, y)\n",
        "importance = model.feature_importances_\n",
        "for i,v in enumerate(importance):\n",
        "  print(f\"Feature: {i}, Score: {v:.3f}\")"
      ],
      "metadata": {
        "colab": {
          "base_uri": "https://localhost:8080/"
        },
        "id": "q8U2A7cJc9A8",
        "outputId": "5636b398-929f-45c5-82eb-0095d68ccfa5"
      },
      "execution_count": 41,
      "outputs": [
        {
          "output_type": "stream",
          "name": "stdout",
          "text": [
            "Feature: 0, Score: 0.039\n",
            "Feature: 1, Score: 0.106\n",
            "Feature: 2, Score: 0.046\n",
            "Feature: 3, Score: 0.380\n",
            "Feature: 4, Score: 0.166\n",
            "Feature: 5, Score: 0.048\n",
            "Feature: 6, Score: 0.038\n",
            "Feature: 7, Score: 0.082\n",
            "Feature: 8, Score: 0.024\n",
            "Feature: 9, Score: 0.070\n"
          ]
        }
      ]
    },
    {
      "cell_type": "code",
      "source": [
        "plt.bar([x for x in range(len(importance))], importance)\n",
        "plt.show()"
      ],
      "metadata": {
        "colab": {
          "base_uri": "https://localhost:8080/",
          "height": 265
        },
        "id": "pMzhrkpadq6-",
        "outputId": "ed3210b7-a7aa-4d0a-9296-db1766aba8c0"
      },
      "execution_count": 43,
      "outputs": [
        {
          "output_type": "display_data",
          "data": {
            "text/plain": [
              "<Figure size 432x288 with 1 Axes>"
            ],
            "image/png": "[encoded data removed]"
          },
          "metadata": {
            "needs_background": "light"
          }
        }
      ]
    },
    {
      "cell_type": "markdown",
      "source": [
        "## 7. Feature selection with feature importance"
      ],
      "metadata": {
        "id": "uPwvLyGZejI6"
      }
    },
    {
      "cell_type": "code",
      "source": [
        "def feature_selection(X_train, y_train, X_test):\n",
        "  fs = SelectFromModel(RandomForestClassifier(n_estimators=1000), max_features=5)\n",
        "  fs.fit(X_train, y_train)\n",
        "  X_train_fs = fs.transform(X_train)\n",
        "  X_test_fs = fs.transform(X_test)\n",
        "\n",
        "  return X_train_fs, X_test_fs, fs\n"
      ],
      "metadata": {
        "id": "FonJB5mOmV_a"
      },
      "execution_count": 56,
      "outputs": []
    },
    {
      "cell_type": "code",
      "source": [
        "X, y = make_classification(n_samples=1000, n_features=10, n_informative=5, n_redundant=5, random_state=42)\n",
        "X_train, X_test, y_train, y_test = train_test_split(X, y, test_size=.2, random_state=42)\n",
        "X_train_fs, X_test_fs, fs = feature_selection(X_train, y_train, X_test)\n",
        "model = LogisticRegression(solver='liblinear')\n",
        "model.fit(X_train_fs, y_train)\n",
        "y_preds = model.predict(X_test_fs)\n",
        "accuracy = accuracy_score(y_test, y_preds)\n",
        "print(f\"Accuracy: {accuracy}\") "
      ],
      "metadata": {
        "colab": {
          "base_uri": "https://localhost:8080/"
        },
        "id": "4YlJMVE6dyic",
        "outputId": "494006a2-38fc-478d-9187-9bf8a3998385"
      },
      "execution_count": 57,
      "outputs": [
        {
          "output_type": "stream",
          "name": "stdout",
          "text": [
            "Accuracy: 0.805\n"
          ]
        }
      ]
    },
    {
      "cell_type": "code",
      "source": [],
      "metadata": {
        "id": "gyCXPuotnkuL"
      },
      "execution_count": null,
      "outputs": []
    }
  ]
}