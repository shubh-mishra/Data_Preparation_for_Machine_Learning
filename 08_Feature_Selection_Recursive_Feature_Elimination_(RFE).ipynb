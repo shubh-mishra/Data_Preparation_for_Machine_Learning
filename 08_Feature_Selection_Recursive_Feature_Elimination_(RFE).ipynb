{
  "nbformat": 4,
  "nbformat_minor": 0,
  "metadata": {
    "colab": {
      "provenance": []
    },
    "kernelspec": {
      "name": "python3",
      "display_name": "Python 3"
    },
    "language_info": {
      "name": "python"
    }
  },
  "cells": [
    {
      "cell_type": "markdown",
      "source": [
        "# Feature Selection - Recursive Feature Elimination (RFE)"
      ],
      "metadata": {
        "id": "zLhwbMpS-eP7"
      }
    },
    {
      "cell_type": "markdown",
      "source": [
        "## 0. Introduction\n",
        "\n",
        "This notebook contains:\n",
        "  1. RFE for classification\n",
        "  2. RFE for regression\n",
        "  3. RFE Hyperparameters\n",
        "    1. Explore number of features\n",
        "    2. Automatically select number of features\n",
        "    3. Which features were selected\n",
        "    4. Explore base algorithm"
      ],
      "metadata": {
        "id": "YYvx5Uh_-qSw"
      }
    },
    {
      "cell_type": "markdown",
      "source": [
        "## 1. RFE for classification"
      ],
      "metadata": {
        "id": "cEmhpawZ_OMc"
      }
    },
    {
      "cell_type": "code",
      "execution_count": 14,
      "metadata": {
        "id": "7KITIvbu8k4-"
      },
      "outputs": [],
      "source": [
        "import pandas as pd\n",
        "import numpy as np\n",
        "import matplotlib.pyplot as plt\n",
        "from sklearn.feature_selection import RFE, RFECV\n",
        "from sklearn.tree import DecisionTreeClassifier, DecisionTreeRegressor\n",
        "from sklearn.model_selection import RepeatedStratifiedKFold, cross_val_score, RepeatedKFold\n",
        "from sklearn.pipeline import Pipeline\n",
        "from sklearn.datasets import make_classification, make_regression"
      ]
    },
    {
      "cell_type": "code",
      "source": [
        "X, y = make_classification(n_samples=1000, n_features=10, n_informative=5, n_redundant=5, random_state=42)\n",
        "rfe = RFE(estimator=DecisionTreeClassifier(), n_features_to_select=5)\n",
        "model = DecisionTreeClassifier()\n",
        "pipeline = Pipeline(steps=[\n",
        "    ('rfe', rfe),\n",
        "    ('m', model)\n",
        "])\n",
        "cv = RepeatedStratifiedKFold(n_splits=10, n_repeats=3, random_state=42)\n",
        "n_scores = cross_val_score(pipeline, X, y, scoring='accuracy', cv=cv, error_score='raise')\n",
        "print(f\"Accuracy: {np.mean(n_scores):.3f} ({np.std(n_scores):.3f})\")"
      ],
      "metadata": {
        "colab": {
          "base_uri": "https://localhost:8080/"
        },
        "id": "bB3U9u-jALCi",
        "outputId": "b4ac4781-1879-4986-b3cc-3032b50dee7b"
      },
      "execution_count": 3,
      "outputs": [
        {
          "output_type": "stream",
          "name": "stdout",
          "text": [
            "Accuracy: 0.880 (0.038)\n"
          ]
        }
      ]
    },
    {
      "cell_type": "markdown",
      "source": [
        "## 2. RFE for regression"
      ],
      "metadata": {
        "id": "Ay66UhrAFhl0"
      }
    },
    {
      "cell_type": "code",
      "source": [
        "X, y = make_regression(n_samples=1000, n_features=10, n_informative=5, random_state=42)\n",
        "rfe = RFE(estimator=DecisionTreeRegressor(), n_features_to_select=5)\n",
        "model = DecisionTreeRegressor()\n",
        "pipeline = Pipeline(steps=[\n",
        "    ('rfe', rfe),\n",
        "    ('m', model)\n",
        "])\n",
        "cv = RepeatedKFold(n_splits=10, n_repeats=3, random_state=42)\n",
        "n_scores = cross_val_score(pipeline, X, y, scoring='neg_mean_absolute_error', cv=cv, n_jobs=-1, error_score='raise')\n",
        "print(f\"MAE: {np.mean(n_scores):.3f} ({np.std(n_scores):.3f})\")"
      ],
      "metadata": {
        "colab": {
          "base_uri": "https://localhost:8080/"
        },
        "id": "3SvRs8b9BhhW",
        "outputId": "85d695d4-1003-4627-f576-524deac8e9be"
      },
      "execution_count": 9,
      "outputs": [
        {
          "output_type": "stream",
          "name": "stdout",
          "text": [
            "MAE: -15.888 (1.276)\n"
          ]
        }
      ]
    },
    {
      "cell_type": "markdown",
      "source": [
        "## 3. RFE Hyperparameters"
      ],
      "metadata": {
        "id": "0xyYybV9KyaV"
      }
    },
    {
      "cell_type": "markdown",
      "source": [
        "### 3.1 Explore number of features"
      ],
      "metadata": {
        "id": "DfnHqirGK4AJ"
      }
    },
    {
      "cell_type": "code",
      "source": [
        "def get_dataset():\n",
        "  X, y = make_classification(n_samples=1000, n_features=10, n_informative=5, n_redundant=5, random_state=42)\n",
        "  return X, y\n",
        "\n",
        "def get_models():\n",
        "  models = dict()\n",
        "  for i in range(2, 10):\n",
        "    rfe = RFE(estimator=DecisionTreeClassifier(), n_features_to_select=i)\n",
        "    model = DecisionTreeClassifier()\n",
        "    models[str(i)] = Pipeline(steps=[\n",
        "        ('s', rfe),\n",
        "        ('m', model)\n",
        "    ])\n",
        "  return models\n",
        "\n",
        "def evaluate_models(model, X, y):\n",
        "  cv = RepeatedStratifiedKFold(n_splits=10, n_repeats=3, random_state=42)\n",
        "  n_scores = cross_val_score(model, X, y, scoring='accuracy', cv=cv, n_jobs=-1, error_score='raise')\n",
        "  return n_scores"
      ],
      "metadata": {
        "id": "akd0a3BzIfyh"
      },
      "execution_count": 10,
      "outputs": []
    },
    {
      "cell_type": "code",
      "source": [
        "X, y = get_dataset()\n",
        "models = get_models()\n",
        "results, names = list(), list()\n",
        "for name, model in models.items():\n",
        "  scores = evaluate_models(model, X, y)\n",
        "  results.append(scores)\n",
        "  names.append(name)\n",
        "  print(f\"{name}: {np.mean(scores):.3f} ({np.std(scores):.3f})\")"
      ],
      "metadata": {
        "colab": {
          "base_uri": "https://localhost:8080/"
        },
        "id": "FGuhgO50PGNZ",
        "outputId": "2311c5fd-514a-4caa-bdc2-19a1934c6c69"
      },
      "execution_count": 11,
      "outputs": [
        {
          "output_type": "stream",
          "name": "stdout",
          "text": [
            "2: 0.861 (0.033)\n",
            "3: 0.861 (0.034)\n",
            "4: 0.869 (0.032)\n",
            "5: 0.882 (0.034)\n",
            "6: 0.888 (0.034)\n",
            "7: 0.895 (0.036)\n",
            "8: 0.894 (0.034)\n",
            "9: 0.896 (0.027)\n"
          ]
        }
      ]
    },
    {
      "cell_type": "code",
      "source": [
        "plt.boxplot(results, labels=names, showmeans=True)\n",
        "plt.show()"
      ],
      "metadata": {
        "colab": {
          "base_uri": "https://localhost:8080/",
          "height": 265
        },
        "id": "DuXNnSwhQYai",
        "outputId": "584f2178-9dd5-4b38-fb49-a2eb7127ab09"
      },
      "execution_count": 13,
      "outputs": [
        {
          "output_type": "display_data",
          "data": {
            "text/plain": [
              "<Figure size 432x288 with 1 Axes>"
            ],
            "image/png": "[encoded data removed]"
          },
          "metadata": {
            "needs_background": "light"
          }
        }
      ]
    },
    {
      "cell_type": "markdown",
      "source": [
        "### 3.2 Automatically select number of features"
      ],
      "metadata": {
        "id": "nWbeIDdWRQ67"
      }
    },
    {
      "cell_type": "code",
      "source": [
        "X, y = get_dataset()\n",
        "rfe = RFECV(estimator=DecisionTreeClassifier())\n",
        "model = DecisionTreeClassifier()\n",
        "pipeline = Pipeline(steps=[\n",
        "    ('s', rfe),\n",
        "    ('m', model)\n",
        "])\n",
        "cv = RepeatedStratifiedKFold(n_splits=10, n_repeats=3, random_state=42)\n",
        "n_scores = cross_val_score(pipeline, X, y, scoring='accuracy', cv=cv, n_jobs=-1, error_score='raise')\n",
        "print(f\"Accuracy: {np.mean(n_scores):.3f} ({np.std(n_scores):.3f})\")"
      ],
      "metadata": {
        "colab": {
          "base_uri": "https://localhost:8080/"
        },
        "id": "_i4rxb13Qkm5",
        "outputId": "0718c473-5e0a-4bfb-ceda-7db0ab9e3f5d"
      },
      "execution_count": 15,
      "outputs": [
        {
          "output_type": "stream",
          "name": "stdout",
          "text": [
            "Accuracy: 0.893 (0.033)\n"
          ]
        }
      ]
    },
    {
      "cell_type": "markdown",
      "source": [
        "### 3.3 Which features were selected"
      ],
      "metadata": {
        "id": "JAIHx7OPSqg8"
      }
    },
    {
      "cell_type": "code",
      "source": [
        "X, y = get_dataset()\n",
        "rfe = RFE(estimator=DecisionTreeClassifier(), n_features_to_select=5)\n",
        "rfe.fit(X, y)\n",
        "for i in range(X.shape[1]):\n",
        "  print(f\"Column: {i}, Selected: {rfe.support_[i]}, Rank: {rfe.ranking_[i]}\")"
      ],
      "metadata": {
        "colab": {
          "base_uri": "https://localhost:8080/"
        },
        "id": "7Hl0NEy6Skbp",
        "outputId": "11740351-bab7-4aa3-e475-b85a87b376b1"
      },
      "execution_count": 17,
      "outputs": [
        {
          "output_type": "stream",
          "name": "stdout",
          "text": [
            "Column: 0, Selected: False, Rank: 2\n",
            "Column: 1, Selected: True, Rank: 1\n",
            "Column: 2, Selected: False, Rank: 4\n",
            "Column: 3, Selected: True, Rank: 1\n",
            "Column: 4, Selected: True, Rank: 1\n",
            "Column: 5, Selected: True, Rank: 1\n",
            "Column: 6, Selected: False, Rank: 3\n",
            "Column: 7, Selected: True, Rank: 1\n",
            "Column: 8, Selected: False, Rank: 6\n",
            "Column: 9, Selected: False, Rank: 5\n"
          ]
        }
      ]
    },
    {
      "cell_type": "code",
      "source": [],
      "metadata": {
        "id": "HAHEpWaFTo_D"
      },
      "execution_count": null,
      "outputs": []
    }
  ]
}