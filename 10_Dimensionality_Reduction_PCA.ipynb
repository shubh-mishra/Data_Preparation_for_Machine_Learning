{
  "nbformat": 4,
  "nbformat_minor": 0,
  "metadata": {
    "colab": {
      "provenance": []
    },
    "kernelspec": {
      "name": "python3",
      "display_name": "Python 3"
    },
    "language_info": {
      "name": "python"
    }
  },
  "cells": [
    {
      "cell_type": "markdown",
      "source": [
        "# Dimentionality reduction - Principal Component Analysis (PCA)"
      ],
      "metadata": {
        "id": "GotEIT0wPAkJ"
      }
    },
    {
      "cell_type": "markdown",
      "source": [
        "## 0. Introduction\n",
        "\n",
        "This notebook contains:\n",
        "  1. Working example of PCA for Dimensionality Reduction"
      ],
      "metadata": {
        "id": "hVO6WVGaPWvb"
      }
    },
    {
      "cell_type": "markdown",
      "source": [
        "## 1. PCA for Dimensionality Reduction"
      ],
      "metadata": {
        "id": "MFLUjrFlPpkh"
      }
    },
    {
      "cell_type": "code",
      "execution_count": 1,
      "metadata": {
        "id": "Q0B5Tgi7O8OB"
      },
      "outputs": [],
      "source": [
        "import pandas as pd\n",
        "import numpy as np\n",
        "import matplotlib.pyplot as plt\n",
        "from sklearn.model_selection import RepeatedStratifiedKFold, cross_val_score\n",
        "from sklearn.datasets import make_classification\n",
        "from sklearn.linear_model import LogisticRegression\n",
        "from sklearn.pipeline import Pipeline\n",
        "from sklearn.decomposition import PCA"
      ]
    },
    {
      "cell_type": "code",
      "source": [
        "def get_dataset():\n",
        "  X, y = make_classification(n_samples=1000, n_features=20, n_informative=15, n_redundant=5, random_state=42)\n",
        "  return X, y"
      ],
      "metadata": {
        "id": "5jlQoDz_Qyos"
      },
      "execution_count": 7,
      "outputs": []
    },
    {
      "cell_type": "code",
      "source": [
        "def get_models():\n",
        "  models = dict()\n",
        "  for i in range(1, 21):\n",
        "    pca = PCA(n_components=i)\n",
        "    model = LogisticRegression()\n",
        "    steps = [('p', pca), ('m', model)]\n",
        "    models[str(i)] = Pipeline(steps=steps)\n",
        "  return models"
      ],
      "metadata": {
        "id": "LkcS9Sq7RGpq"
      },
      "execution_count": 3,
      "outputs": []
    },
    {
      "cell_type": "code",
      "source": [
        "def evaluate_models(model, X, y):\n",
        "  cv = RepeatedStratifiedKFold(n_splits=10, n_repeats=3, random_state=42)\n",
        "  n_scores = cross_val_score(model, X, y, scoring='accuracy', cv=cv,  n_jobs=-1, error_score='raise')\n",
        "  return n_scores"
      ],
      "metadata": {
        "id": "mWpNw0QXSQ9M"
      },
      "execution_count": 4,
      "outputs": []
    },
    {
      "cell_type": "code",
      "source": [
        "X, y = get_dataset()\n",
        "models = get_models()\n",
        "results = list()\n",
        "names = list()\n",
        "for name, model in models.items():\n",
        "  scores = evaluate_models(model, X, y)\n",
        "  results.append(scores)\n",
        "  names.append(name)\n",
        "  print(f\"Model: {name}, Accuracy: {np.mean(results):.3f} ({np.std(results):.3f})\")\n"
      ],
      "metadata": {
        "colab": {
          "base_uri": "https://localhost:8080/"
        },
        "id": "iP6kNZTXS__b",
        "outputId": "f61b8832-92d6-4a2a-b05a-fe8bf95e062f"
      },
      "execution_count": 8,
      "outputs": [
        {
          "output_type": "stream",
          "name": "stdout",
          "text": [
            "Model: 1, Accuracy: 0.610 (0.050)\n",
            "Model: 2, Accuracy: 0.608 (0.051)\n",
            "Model: 3, Accuracy: 0.611 (0.051)\n",
            "Model: 4, Accuracy: 0.615 (0.051)\n",
            "Model: 5, Accuracy: 0.622 (0.050)\n",
            "Model: 6, Accuracy: 0.628 (0.049)\n",
            "Model: 7, Accuracy: 0.637 (0.053)\n",
            "Model: 8, Accuracy: 0.644 (0.055)\n",
            "Model: 9, Accuracy: 0.649 (0.055)\n",
            "Model: 10, Accuracy: 0.653 (0.055)\n",
            "Model: 11, Accuracy: 0.664 (0.064)\n",
            "Model: 12, Accuracy: 0.675 (0.072)\n",
            "Model: 13, Accuracy: 0.686 (0.079)\n",
            "Model: 14, Accuracy: 0.695 (0.083)\n",
            "Model: 15, Accuracy: 0.702 (0.086)\n",
            "Model: 16, Accuracy: 0.709 (0.088)\n",
            "Model: 17, Accuracy: 0.715 (0.089)\n",
            "Model: 18, Accuracy: 0.720 (0.089)\n",
            "Model: 19, Accuracy: 0.725 (0.089)\n",
            "Model: 20, Accuracy: 0.729 (0.089)\n"
          ]
        }
      ]
    },
    {
      "cell_type": "code",
      "source": [
        "plt.boxplot(results, labels=names, showmeans=True)\n",
        "plt.show()"
      ],
      "metadata": {
        "colab": {
          "base_uri": "https://localhost:8080/",
          "height": 265
        },
        "id": "SsG5Bb3XUZww",
        "outputId": "e14cc7d7-7d6b-460b-ef44-7634bf39f46c"
      },
      "execution_count": 9,
      "outputs": [
        {
          "output_type": "display_data",
          "data": {
            "text/plain": [
              "<Figure size 432x288 with 1 Axes>"
            ],
            "image/png": "[encoded data removed]"
          },
          "metadata": {
            "needs_background": "light"
          }
        }
      ]
    },
    {
      "cell_type": "code",
      "source": [],
      "metadata": {
        "id": "RnqhxSV4ZGTA"
      },
      "execution_count": null,
      "outputs": []
    }
  ]
}