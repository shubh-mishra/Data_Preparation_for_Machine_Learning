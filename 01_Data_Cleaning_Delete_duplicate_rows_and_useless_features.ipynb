{
  "nbformat": 4,
  "nbformat_minor": 0,
  "metadata": {
    "colab": {
      "provenance": []
    },
    "kernelspec": {
      "name": "python3",
      "display_name": "Python 3"
    },
    "language_info": {
      "name": "python"
    }
  },
  "cells": [
    {
      "cell_type": "markdown",
      "source": [
        "# Data Cleaning - Delete duplicate rows and useless features"
      ],
      "metadata": {
        "id": "v5L8Elag7Ose"
      }
    },
    {
      "cell_type": "markdown",
      "source": [
        "## 0. Introduction\n",
        "\n",
        "This notebook contains:\n",
        "  1. Identify columns that contain a single value\n",
        "  2. Delete columns that contain a single value\n",
        "  3. Consider columns that have very few values\n",
        "  4. Remove columns that have a low variance\n",
        "  5. Identify rows that contain duplicate data\n",
        "  6. Delete rows that contain duplicate data"
      ],
      "metadata": {
        "id": "wN50dTNx7bj9"
      }
    },
    {
      "cell_type": "markdown",
      "source": [
        "## 1. Identify columns that contain a single value"
      ],
      "metadata": {
        "id": "EzujWPSH8MEG"
      }
    },
    {
      "cell_type": "code",
      "source": [
        "import pandas as pd\n",
        "\n",
        "path = \"https://raw.githubusercontent.com/jbrownlee/Datasets/master/oil-spill.csv\"\n",
        "data = pd.read_csv(path, header=None)\n",
        "data.head()"
      ],
      "metadata": {
        "colab": {
          "base_uri": "https://localhost:8080/",
          "height": 235
        },
        "id": "sOM3FQHS8kuT",
        "outputId": "8c9b664e-2f32-4258-f7f4-e4d0df990ea0"
      },
      "execution_count": 2,
      "outputs": [
        {
          "output_type": "execute_result",
          "data": {
            "text/plain": [
              "   0      1        2       3    4           5      6     7        8     9   \\\n",
              "0   1   2558  1506.09  456.63   90   6395000.0  40.88  7.89  29780.0  0.19   \n",
              "1   2  22325    79.11  841.03  180  55812500.0  51.11  1.21  61900.0  0.02   \n",
              "2   3    115  1449.85  608.43   88    287500.0  40.42  7.34   3340.0  0.18   \n",
              "3   4   1201  1562.53  295.65   66   3002500.0  42.40  7.97  18030.0  0.19   \n",
              "4   5    312   950.27  440.86   37    780000.0  41.43  7.03   3350.0  0.17   \n",
              "\n",
              "   ...       40        41       42       43     44  45        46     47    48  \\\n",
              "0  ...  2850.00   1000.00   763.16   135.46   3.73   0  33243.19  65.74  7.95   \n",
              "1  ...  5750.00  11500.00  9593.48  1648.80   0.60   0  51572.04  65.73  6.26   \n",
              "2  ...  1400.00    250.00   150.00    45.13   9.33   1  31692.84  65.81  7.84   \n",
              "3  ...  6041.52    761.58   453.21   144.97  13.33   1  37696.21  65.67  8.07   \n",
              "4  ...  1320.04    710.63   512.54   109.16   2.58   0  29038.17  65.66  7.35   \n",
              "\n",
              "   49  \n",
              "0   1  \n",
              "1   0  \n",
              "2   1  \n",
              "3   1  \n",
              "4   0  \n",
              "\n",
              "[5 rows x 50 columns]"
            ],
            "text/html": [
              "\n",
              "  <div id=\"df-bd696a7a-7617-4e77-b438-d5e9c5bbbbd6\">\n",
              "    <div class=\"colab-df-container\">\n",
              "      <div>\n",
              "<style scoped>\n",
              "    .dataframe tbody tr th:only-of-type {\n",
              "        vertical-align: middle;\n",
              "    }\n",
              "\n",
              "    .dataframe tbody tr th {\n",
              "        vertical-align: top;\n",
              "    }\n",
              "\n",
              "    .dataframe thead th {\n",
              "        text-align: right;\n",
              "    }\n",
              "</style>\n",
              "<table border=\"1\" class=\"dataframe\">\n",
              "  <thead>\n",
              "    <tr style=\"text-align: right;\">\n",
              "      <th></th>\n",
              "      <th>0</th>\n",
              "      <th>1</th>\n",
              "      <th>2</th>\n",
              "      <th>3</th>\n",
              "      <th>4</th>\n",
              "      <th>5</th>\n",
              "      <th>6</th>\n",
              "      <th>7</th>\n",
              "      <th>8</th>\n",
              "      <th>9</th>\n",
              "      <th>...</th>\n",
              "      <th>40</th>\n",
              "      <th>41</th>\n",
              "      <th>42</th>\n",
              "      <th>43</th>\n",
              "      <th>44</th>\n",
              "      <th>45</th>\n",
              "      <th>46</th>\n",
              "      <th>47</th>\n",
              "      <th>48</th>\n",
              "      <th>49</th>\n",
              "    </tr>\n",
              "  </thead>\n",
              "  <tbody>\n",
              "    <tr>\n",
              "      <th>0</th>\n",
              "      <td>1</td>\n",
              "      <td>2558</td>\n",
              "      <td>1506.09</td>\n",
              "      <td>456.63</td>\n",
              "      <td>90</td>\n",
              "      <td>6395000.0</td>\n",
              "      <td>40.88</td>\n",
              "      <td>7.89</td>\n",
              "      <td>29780.0</td>\n",
              "      <td>0.19</td>\n",
              "      <td>...</td>\n",
              "      <td>2850.00</td>\n",
              "      <td>1000.00</td>\n",
              "      <td>763.16</td>\n",
              "      <td>135.46</td>\n",
              "      <td>3.73</td>\n",
              "      <td>0</td>\n",
              "      <td>33243.19</td>\n",
              "      <td>65.74</td>\n",
              "      <td>7.95</td>\n",
              "      <td>1</td>\n",
              "    </tr>\n",
              "    <tr>\n",
              "      <th>1</th>\n",
              "      <td>2</td>\n",
              "      <td>22325</td>\n",
              "      <td>79.11</td>\n",
              "      <td>841.03</td>\n",
              "      <td>180</td>\n",
              "      <td>55812500.0</td>\n",
              "      <td>51.11</td>\n",
              "      <td>1.21</td>\n",
              "      <td>61900.0</td>\n",
              "      <td>0.02</td>\n",
              "      <td>...</td>\n",
              "      <td>5750.00</td>\n",
              "      <td>11500.00</td>\n",
              "      <td>9593.48</td>\n",
              "      <td>1648.80</td>\n",
              "      <td>0.60</td>\n",
              "      <td>0</td>\n",
              "      <td>51572.04</td>\n",
              "      <td>65.73</td>\n",
              "      <td>6.26</td>\n",
              "      <td>0</td>\n",
              "    </tr>\n",
              "    <tr>\n",
              "      <th>2</th>\n",
              "      <td>3</td>\n",
              "      <td>115</td>\n",
              "      <td>1449.85</td>\n",
              "      <td>608.43</td>\n",
              "      <td>88</td>\n",
              "      <td>287500.0</td>\n",
              "      <td>40.42</td>\n",
              "      <td>7.34</td>\n",
              "      <td>3340.0</td>\n",
              "      <td>0.18</td>\n",
              "      <td>...</td>\n",
              "      <td>1400.00</td>\n",
              "      <td>250.00</td>\n",
              "      <td>150.00</td>\n",
              "      <td>45.13</td>\n",
              "      <td>9.33</td>\n",
              "      <td>1</td>\n",
              "      <td>31692.84</td>\n",
              "      <td>65.81</td>\n",
              "      <td>7.84</td>\n",
              "      <td>1</td>\n",
              "    </tr>\n",
              "    <tr>\n",
              "      <th>3</th>\n",
              "      <td>4</td>\n",
              "      <td>1201</td>\n",
              "      <td>1562.53</td>\n",
              "      <td>295.65</td>\n",
              "      <td>66</td>\n",
              "      <td>3002500.0</td>\n",
              "      <td>42.40</td>\n",
              "      <td>7.97</td>\n",
              "      <td>18030.0</td>\n",
              "      <td>0.19</td>\n",
              "      <td>...</td>\n",
              "      <td>6041.52</td>\n",
              "      <td>761.58</td>\n",
              "      <td>453.21</td>\n",
              "      <td>144.97</td>\n",
              "      <td>13.33</td>\n",
              "      <td>1</td>\n",
              "      <td>37696.21</td>\n",
              "      <td>65.67</td>\n",
              "      <td>8.07</td>\n",
              "      <td>1</td>\n",
              "    </tr>\n",
              "    <tr>\n",
              "      <th>4</th>\n",
              "      <td>5</td>\n",
              "      <td>312</td>\n",
              "      <td>950.27</td>\n",
              "      <td>440.86</td>\n",
              "      <td>37</td>\n",
              "      <td>780000.0</td>\n",
              "      <td>41.43</td>\n",
              "      <td>7.03</td>\n",
              "      <td>3350.0</td>\n",
              "      <td>0.17</td>\n",
              "      <td>...</td>\n",
              "      <td>1320.04</td>\n",
              "      <td>710.63</td>\n",
              "      <td>512.54</td>\n",
              "      <td>109.16</td>\n",
              "      <td>2.58</td>\n",
              "      <td>0</td>\n",
              "      <td>29038.17</td>\n",
              "      <td>65.66</td>\n",
              "      <td>7.35</td>\n",
              "      <td>0</td>\n",
              "    </tr>\n",
              "  </tbody>\n",
              "</table>\n",
              "<p>5 rows × 50 columns</p>\n",
              "</div>\n",
              "      <button class=\"colab-df-convert\" onclick=\"convertToInteractive('df-bd696a7a-7617-4e77-b438-d5e9c5bbbbd6')\"\n",
              "              title=\"Convert this dataframe to an interactive table.\"\n",
              "              style=\"display:none;\">\n",
              "        \n",
              "  <svg xmlns=\"http://www.w3.org/2000/svg\" height=\"24px\"viewBox=\"0 0 24 24\"\n",
              "       width=\"24px\">\n",
              "    <path d=\"M0 0h24v24H0V0z\" fill=\"none\"/>\n",
              "    <path d=\"M18.56 5.44l.94 2.06.94-2.06 2.06-.94-2.06-.94-.94-2.06-.94 2.06-2.06.94zm-11 1L8.5 8.5l.94-2.06 2.06-.94-2.06-.94L8.5 2.5l-.94 2.06-2.06.94zm10 10l.94 2.06.94-2.06 2.06-.94-2.06-.94-.94-2.06-.94 2.06-2.06.94z\"/><path d=\"M17.41 7.96l-1.37-1.37c-.4-.4-.92-.59-1.43-.59-.52 0-1.04.2-1.43.59L10.3 9.45l-7.72 7.72c-.78.78-.78 2.05 0 2.83L4 21.41c.39.39.9.59 1.41.59.51 0 1.02-.2 1.41-.59l7.78-7.78 2.81-2.81c.8-.78.8-2.07 0-2.86zM5.41 20L4 18.59l7.72-7.72 1.47 1.35L5.41 20z\"/>\n",
              "  </svg>\n",
              "      </button>\n",
              "      \n",
              "  <style>\n",
              "    .colab-df-container {\n",
              "      display:flex;\n",
              "      flex-wrap:wrap;\n",
              "      gap: 12px;\n",
              "    }\n",
              "\n",
              "    .colab-df-convert {\n",
              "      background-color: #E8F0FE;\n",
              "      border: none;\n",
              "      border-radius: 50%;\n",
              "      cursor: pointer;\n",
              "      display: none;\n",
              "      fill: #1967D2;\n",
              "      height: 32px;\n",
              "      padding: 0 0 0 0;\n",
              "      width: 32px;\n",
              "    }\n",
              "\n",
              "    .colab-df-convert:hover {\n",
              "      background-color: #E2EBFA;\n",
              "      box-shadow: 0px 1px 2px rgba(60, 64, 67, 0.3), 0px 1px 3px 1px rgba(60, 64, 67, 0.15);\n",
              "      fill: #174EA6;\n",
              "    }\n",
              "\n",
              "    [theme=dark] .colab-df-convert {\n",
              "      background-color: #3B4455;\n",
              "      fill: #D2E3FC;\n",
              "    }\n",
              "\n",
              "    [theme=dark] .colab-df-convert:hover {\n",
              "      background-color: #434B5C;\n",
              "      box-shadow: 0px 1px 3px 1px rgba(0, 0, 0, 0.15);\n",
              "      filter: drop-shadow(0px 1px 2px rgba(0, 0, 0, 0.3));\n",
              "      fill: #FFFFFF;\n",
              "    }\n",
              "  </style>\n",
              "\n",
              "      <script>\n",
              "        const buttonEl =\n",
              "          document.querySelector('#df-bd696a7a-7617-4e77-b438-d5e9c5bbbbd6 button.colab-df-convert');\n",
              "        buttonEl.style.display =\n",
              "          google.colab.kernel.accessAllowed ? 'block' : 'none';\n",
              "\n",
              "        async function convertToInteractive(key) {\n",
              "          const element = document.querySelector('#df-bd696a7a-7617-4e77-b438-d5e9c5bbbbd6');\n",
              "          const dataTable =\n",
              "            await google.colab.kernel.invokeFunction('convertToInteractive',\n",
              "                                                     [key], {});\n",
              "          if (!dataTable) return;\n",
              "\n",
              "          const docLinkHtml = 'Like what you see? Visit the ' +\n",
              "            '<a target=\"_blank\" href=https://colab.research.google.com/notebooks/data_table.ipynb>data table notebook</a>'\n",
              "            + ' to learn more about interactive tables.';\n",
              "          element.innerHTML = '';\n",
              "          dataTable['output_type'] = 'display_data';\n",
              "          await google.colab.output.renderOutput(dataTable, element);\n",
              "          const docLink = document.createElement('div');\n",
              "          docLink.innerHTML = docLinkHtml;\n",
              "          element.appendChild(docLink);\n",
              "        }\n",
              "      </script>\n",
              "    </div>\n",
              "  </div>\n",
              "  "
            ]
          },
          "metadata": {},
          "execution_count": 2
        }
      ]
    },
    {
      "cell_type": "code",
      "source": [
        "data.nunique()"
      ],
      "metadata": {
        "colab": {
          "base_uri": "https://localhost:8080/"
        },
        "id": "IQGfGhCy9Neu",
        "outputId": "047296d6-3bfa-4720-823d-764af65448fb"
      },
      "execution_count": 3,
      "outputs": [
        {
          "output_type": "execute_result",
          "data": {
            "text/plain": [
              "0     238\n",
              "1     297\n",
              "2     927\n",
              "3     933\n",
              "4     179\n",
              "5     375\n",
              "6     820\n",
              "7     618\n",
              "8     561\n",
              "9      57\n",
              "10    577\n",
              "11     59\n",
              "12     73\n",
              "13    107\n",
              "14     53\n",
              "15     91\n",
              "16    893\n",
              "17    810\n",
              "18    170\n",
              "19     53\n",
              "20     68\n",
              "21      9\n",
              "22      1\n",
              "23     92\n",
              "24      9\n",
              "25      8\n",
              "26      9\n",
              "27    308\n",
              "28    447\n",
              "29    392\n",
              "30    107\n",
              "31     42\n",
              "32      4\n",
              "33     45\n",
              "34    141\n",
              "35    110\n",
              "36      3\n",
              "37    758\n",
              "38      9\n",
              "39      9\n",
              "40    388\n",
              "41    220\n",
              "42    644\n",
              "43    649\n",
              "44    499\n",
              "45      2\n",
              "46    937\n",
              "47    169\n",
              "48    286\n",
              "49      2\n",
              "dtype: int64"
            ]
          },
          "metadata": {},
          "execution_count": 3
        }
      ]
    },
    {
      "cell_type": "markdown",
      "source": [
        "## 2. Delete columns that contain a single value"
      ],
      "metadata": {
        "id": "DS87ld668R0g"
      }
    },
    {
      "cell_type": "code",
      "source": [
        "data.shape"
      ],
      "metadata": {
        "colab": {
          "base_uri": "https://localhost:8080/"
        },
        "id": "ExfIcPBl8lQN",
        "outputId": "bbb436ad-2351-4cd9-c4e3-408be652af6c"
      },
      "execution_count": 4,
      "outputs": [
        {
          "output_type": "execute_result",
          "data": {
            "text/plain": [
              "(937, 50)"
            ]
          },
          "metadata": {},
          "execution_count": 4
        }
      ]
    },
    {
      "cell_type": "code",
      "source": [
        "counts = data.nunique()"
      ],
      "metadata": {
        "id": "qiyj2Ibp9f19"
      },
      "execution_count": 5,
      "outputs": []
    },
    {
      "cell_type": "code",
      "source": [
        "to_del = [i for i,v in enumerate(counts) if (v == 1)]\n",
        "print(to_del)"
      ],
      "metadata": {
        "colab": {
          "base_uri": "https://localhost:8080/"
        },
        "id": "Rf_SVC3h9fiO",
        "outputId": "41bced24-d524-4f5f-814a-e7d1b3c68139"
      },
      "execution_count": 6,
      "outputs": [
        {
          "output_type": "stream",
          "name": "stdout",
          "text": [
            "[22]\n"
          ]
        }
      ]
    },
    {
      "cell_type": "code",
      "source": [
        "data.drop(to_del, axis=1, inplace=True)\n",
        "data.shape"
      ],
      "metadata": {
        "colab": {
          "base_uri": "https://localhost:8080/"
        },
        "id": "ZIxj-j0Z-QgG",
        "outputId": "c44a223f-08b1-4f8d-d737-5a1d5123eb1c"
      },
      "execution_count": 7,
      "outputs": [
        {
          "output_type": "execute_result",
          "data": {
            "text/plain": [
              "(937, 49)"
            ]
          },
          "metadata": {},
          "execution_count": 7
        }
      ]
    },
    {
      "cell_type": "markdown",
      "source": [
        "## 3. Consider columns that have very few values"
      ],
      "metadata": {
        "id": "D7JbbF2L8VZF"
      }
    },
    {
      "cell_type": "code",
      "source": [
        "counts = data.nunique()"
      ],
      "metadata": {
        "id": "NQyj3nhuDabu"
      },
      "execution_count": 18,
      "outputs": []
    },
    {
      "cell_type": "code",
      "source": [
        "low_var = [i for i,v in enumerate(counts) if float(v/data.shape[0]*100) < 1]\n",
        "low_var"
      ],
      "metadata": {
        "colab": {
          "base_uri": "https://localhost:8080/"
        },
        "id": "apphUCz78lz2",
        "outputId": "f815b4a1-ec7f-41f5-c372-29f8ce51cccf"
      },
      "execution_count": 19,
      "outputs": [
        {
          "output_type": "execute_result",
          "data": {
            "text/plain": [
              "[21, 23, 24, 25, 31, 35, 37, 38, 44, 48]"
            ]
          },
          "metadata": {},
          "execution_count": 19
        }
      ]
    },
    {
      "cell_type": "code",
      "source": [
        "data.shape"
      ],
      "metadata": {
        "colab": {
          "base_uri": "https://localhost:8080/"
        },
        "id": "jt0dzKCPDO9W",
        "outputId": "8591552a-83cf-4bd6-899a-3a938fc867ca"
      },
      "execution_count": 20,
      "outputs": [
        {
          "output_type": "execute_result",
          "data": {
            "text/plain": [
              "(937, 49)"
            ]
          },
          "metadata": {},
          "execution_count": 20
        }
      ]
    },
    {
      "cell_type": "code",
      "source": [
        "data.drop(low_var, axis=1, inplace=True)\n",
        "data.shape"
      ],
      "metadata": {
        "colab": {
          "base_uri": "https://localhost:8080/"
        },
        "id": "9Hl77SUwDEjo",
        "outputId": "3709b397-85df-41e7-dda8-d8df0c1bf9b7"
      },
      "execution_count": 21,
      "outputs": [
        {
          "output_type": "execute_result",
          "data": {
            "text/plain": [
              "(937, 39)"
            ]
          },
          "metadata": {},
          "execution_count": 21
        }
      ]
    },
    {
      "cell_type": "markdown",
      "source": [
        "## 4. Remove columns that have a low variance"
      ],
      "metadata": {
        "id": "igw630368VNF"
      }
    },
    {
      "cell_type": "code",
      "source": [
        "from sklearn.feature_selection import VarianceThreshold\n",
        "\n",
        "path = \"https://raw.githubusercontent.com/jbrownlee/Datasets/master/oil-spill.csv\"\n",
        "data = pd.read_csv(path, header=None)\n",
        "data.head()"
      ],
      "metadata": {
        "colab": {
          "base_uri": "https://localhost:8080/",
          "height": 235
        },
        "id": "0pqQ3ij28mwt",
        "outputId": "37f42290-c132-49c9-d851-ebc08cfc1225"
      },
      "execution_count": 22,
      "outputs": [
        {
          "output_type": "execute_result",
          "data": {
            "text/plain": [
              "   0      1        2       3    4           5      6     7        8     9   \\\n",
              "0   1   2558  1506.09  456.63   90   6395000.0  40.88  7.89  29780.0  0.19   \n",
              "1   2  22325    79.11  841.03  180  55812500.0  51.11  1.21  61900.0  0.02   \n",
              "2   3    115  1449.85  608.43   88    287500.0  40.42  7.34   3340.0  0.18   \n",
              "3   4   1201  1562.53  295.65   66   3002500.0  42.40  7.97  18030.0  0.19   \n",
              "4   5    312   950.27  440.86   37    780000.0  41.43  7.03   3350.0  0.17   \n",
              "\n",
              "   ...       40        41       42       43     44  45        46     47    48  \\\n",
              "0  ...  2850.00   1000.00   763.16   135.46   3.73   0  33243.19  65.74  7.95   \n",
              "1  ...  5750.00  11500.00  9593.48  1648.80   0.60   0  51572.04  65.73  6.26   \n",
              "2  ...  1400.00    250.00   150.00    45.13   9.33   1  31692.84  65.81  7.84   \n",
              "3  ...  6041.52    761.58   453.21   144.97  13.33   1  37696.21  65.67  8.07   \n",
              "4  ...  1320.04    710.63   512.54   109.16   2.58   0  29038.17  65.66  7.35   \n",
              "\n",
              "   49  \n",
              "0   1  \n",
              "1   0  \n",
              "2   1  \n",
              "3   1  \n",
              "4   0  \n",
              "\n",
              "[5 rows x 50 columns]"
            ],
            "text/html": [
              "\n",
              "  <div id=\"df-f1ee7d35-aecf-470e-aeeb-ea7c7c44420d\">\n",
              "    <div class=\"colab-df-container\">\n",
              "      <div>\n",
              "<style scoped>\n",
              "    .dataframe tbody tr th:only-of-type {\n",
              "        vertical-align: middle;\n",
              "    }\n",
              "\n",
              "    .dataframe tbody tr th {\n",
              "        vertical-align: top;\n",
              "    }\n",
              "\n",
              "    .dataframe thead th {\n",
              "        text-align: right;\n",
              "    }\n",
              "</style>\n",
              "<table border=\"1\" class=\"dataframe\">\n",
              "  <thead>\n",
              "    <tr style=\"text-align: right;\">\n",
              "      <th></th>\n",
              "      <th>0</th>\n",
              "      <th>1</th>\n",
              "      <th>2</th>\n",
              "      <th>3</th>\n",
              "      <th>4</th>\n",
              "      <th>5</th>\n",
              "      <th>6</th>\n",
              "      <th>7</th>\n",
              "      <th>8</th>\n",
              "      <th>9</th>\n",
              "      <th>...</th>\n",
              "      <th>40</th>\n",
              "      <th>41</th>\n",
              "      <th>42</th>\n",
              "      <th>43</th>\n",
              "      <th>44</th>\n",
              "      <th>45</th>\n",
              "      <th>46</th>\n",
              "      <th>47</th>\n",
              "      <th>48</th>\n",
              "      <th>49</th>\n",
              "    </tr>\n",
              "  </thead>\n",
              "  <tbody>\n",
              "    <tr>\n",
              "      <th>0</th>\n",
              "      <td>1</td>\n",
              "      <td>2558</td>\n",
              "      <td>1506.09</td>\n",
              "      <td>456.63</td>\n",
              "      <td>90</td>\n",
              "      <td>6395000.0</td>\n",
              "      <td>40.88</td>\n",
              "      <td>7.89</td>\n",
              "      <td>29780.0</td>\n",
              "      <td>0.19</td>\n",
              "      <td>...</td>\n",
              "      <td>2850.00</td>\n",
              "      <td>1000.00</td>\n",
              "      <td>763.16</td>\n",
              "      <td>135.46</td>\n",
              "      <td>3.73</td>\n",
              "      <td>0</td>\n",
              "      <td>33243.19</td>\n",
              "      <td>65.74</td>\n",
              "      <td>7.95</td>\n",
              "      <td>1</td>\n",
              "    </tr>\n",
              "    <tr>\n",
              "      <th>1</th>\n",
              "      <td>2</td>\n",
              "      <td>22325</td>\n",
              "      <td>79.11</td>\n",
              "      <td>841.03</td>\n",
              "      <td>180</td>\n",
              "      <td>55812500.0</td>\n",
              "      <td>51.11</td>\n",
              "      <td>1.21</td>\n",
              "      <td>61900.0</td>\n",
              "      <td>0.02</td>\n",
              "      <td>...</td>\n",
              "      <td>5750.00</td>\n",
              "      <td>11500.00</td>\n",
              "      <td>9593.48</td>\n",
              "      <td>1648.80</td>\n",
              "      <td>0.60</td>\n",
              "      <td>0</td>\n",
              "      <td>51572.04</td>\n",
              "      <td>65.73</td>\n",
              "      <td>6.26</td>\n",
              "      <td>0</td>\n",
              "    </tr>\n",
              "    <tr>\n",
              "      <th>2</th>\n",
              "      <td>3</td>\n",
              "      <td>115</td>\n",
              "      <td>1449.85</td>\n",
              "      <td>608.43</td>\n",
              "      <td>88</td>\n",
              "      <td>287500.0</td>\n",
              "      <td>40.42</td>\n",
              "      <td>7.34</td>\n",
              "      <td>3340.0</td>\n",
              "      <td>0.18</td>\n",
              "      <td>...</td>\n",
              "      <td>1400.00</td>\n",
              "      <td>250.00</td>\n",
              "      <td>150.00</td>\n",
              "      <td>45.13</td>\n",
              "      <td>9.33</td>\n",
              "      <td>1</td>\n",
              "      <td>31692.84</td>\n",
              "      <td>65.81</td>\n",
              "      <td>7.84</td>\n",
              "      <td>1</td>\n",
              "    </tr>\n",
              "    <tr>\n",
              "      <th>3</th>\n",
              "      <td>4</td>\n",
              "      <td>1201</td>\n",
              "      <td>1562.53</td>\n",
              "      <td>295.65</td>\n",
              "      <td>66</td>\n",
              "      <td>3002500.0</td>\n",
              "      <td>42.40</td>\n",
              "      <td>7.97</td>\n",
              "      <td>18030.0</td>\n",
              "      <td>0.19</td>\n",
              "      <td>...</td>\n",
              "      <td>6041.52</td>\n",
              "      <td>761.58</td>\n",
              "      <td>453.21</td>\n",
              "      <td>144.97</td>\n",
              "      <td>13.33</td>\n",
              "      <td>1</td>\n",
              "      <td>37696.21</td>\n",
              "      <td>65.67</td>\n",
              "      <td>8.07</td>\n",
              "      <td>1</td>\n",
              "    </tr>\n",
              "    <tr>\n",
              "      <th>4</th>\n",
              "      <td>5</td>\n",
              "      <td>312</td>\n",
              "      <td>950.27</td>\n",
              "      <td>440.86</td>\n",
              "      <td>37</td>\n",
              "      <td>780000.0</td>\n",
              "      <td>41.43</td>\n",
              "      <td>7.03</td>\n",
              "      <td>3350.0</td>\n",
              "      <td>0.17</td>\n",
              "      <td>...</td>\n",
              "      <td>1320.04</td>\n",
              "      <td>710.63</td>\n",
              "      <td>512.54</td>\n",
              "      <td>109.16</td>\n",
              "      <td>2.58</td>\n",
              "      <td>0</td>\n",
              "      <td>29038.17</td>\n",
              "      <td>65.66</td>\n",
              "      <td>7.35</td>\n",
              "      <td>0</td>\n",
              "    </tr>\n",
              "  </tbody>\n",
              "</table>\n",
              "<p>5 rows × 50 columns</p>\n",
              "</div>\n",
              "      <button class=\"colab-df-convert\" onclick=\"convertToInteractive('df-f1ee7d35-aecf-470e-aeeb-ea7c7c44420d')\"\n",
              "              title=\"Convert this dataframe to an interactive table.\"\n",
              "              style=\"display:none;\">\n",
              "        \n",
              "  <svg xmlns=\"http://www.w3.org/2000/svg\" height=\"24px\"viewBox=\"0 0 24 24\"\n",
              "       width=\"24px\">\n",
              "    <path d=\"M0 0h24v24H0V0z\" fill=\"none\"/>\n",
              "    <path d=\"M18.56 5.44l.94 2.06.94-2.06 2.06-.94-2.06-.94-.94-2.06-.94 2.06-2.06.94zm-11 1L8.5 8.5l.94-2.06 2.06-.94-2.06-.94L8.5 2.5l-.94 2.06-2.06.94zm10 10l.94 2.06.94-2.06 2.06-.94-2.06-.94-.94-2.06-.94 2.06-2.06.94z\"/><path d=\"M17.41 7.96l-1.37-1.37c-.4-.4-.92-.59-1.43-.59-.52 0-1.04.2-1.43.59L10.3 9.45l-7.72 7.72c-.78.78-.78 2.05 0 2.83L4 21.41c.39.39.9.59 1.41.59.51 0 1.02-.2 1.41-.59l7.78-7.78 2.81-2.81c.8-.78.8-2.07 0-2.86zM5.41 20L4 18.59l7.72-7.72 1.47 1.35L5.41 20z\"/>\n",
              "  </svg>\n",
              "      </button>\n",
              "      \n",
              "  <style>\n",
              "    .colab-df-container {\n",
              "      display:flex;\n",
              "      flex-wrap:wrap;\n",
              "      gap: 12px;\n",
              "    }\n",
              "\n",
              "    .colab-df-convert {\n",
              "      background-color: #E8F0FE;\n",
              "      border: none;\n",
              "      border-radius: 50%;\n",
              "      cursor: pointer;\n",
              "      display: none;\n",
              "      fill: #1967D2;\n",
              "      height: 32px;\n",
              "      padding: 0 0 0 0;\n",
              "      width: 32px;\n",
              "    }\n",
              "\n",
              "    .colab-df-convert:hover {\n",
              "      background-color: #E2EBFA;\n",
              "      box-shadow: 0px 1px 2px rgba(60, 64, 67, 0.3), 0px 1px 3px 1px rgba(60, 64, 67, 0.15);\n",
              "      fill: #174EA6;\n",
              "    }\n",
              "\n",
              "    [theme=dark] .colab-df-convert {\n",
              "      background-color: #3B4455;\n",
              "      fill: #D2E3FC;\n",
              "    }\n",
              "\n",
              "    [theme=dark] .colab-df-convert:hover {\n",
              "      background-color: #434B5C;\n",
              "      box-shadow: 0px 1px 3px 1px rgba(0, 0, 0, 0.15);\n",
              "      filter: drop-shadow(0px 1px 2px rgba(0, 0, 0, 0.3));\n",
              "      fill: #FFFFFF;\n",
              "    }\n",
              "  </style>\n",
              "\n",
              "      <script>\n",
              "        const buttonEl =\n",
              "          document.querySelector('#df-f1ee7d35-aecf-470e-aeeb-ea7c7c44420d button.colab-df-convert');\n",
              "        buttonEl.style.display =\n",
              "          google.colab.kernel.accessAllowed ? 'block' : 'none';\n",
              "\n",
              "        async function convertToInteractive(key) {\n",
              "          const element = document.querySelector('#df-f1ee7d35-aecf-470e-aeeb-ea7c7c44420d');\n",
              "          const dataTable =\n",
              "            await google.colab.kernel.invokeFunction('convertToInteractive',\n",
              "                                                     [key], {});\n",
              "          if (!dataTable) return;\n",
              "\n",
              "          const docLinkHtml = 'Like what you see? Visit the ' +\n",
              "            '<a target=\"_blank\" href=https://colab.research.google.com/notebooks/data_table.ipynb>data table notebook</a>'\n",
              "            + ' to learn more about interactive tables.';\n",
              "          element.innerHTML = '';\n",
              "          dataTable['output_type'] = 'display_data';\n",
              "          await google.colab.output.renderOutput(dataTable, element);\n",
              "          const docLink = document.createElement('div');\n",
              "          docLink.innerHTML = docLinkHtml;\n",
              "          element.appendChild(docLink);\n",
              "        }\n",
              "      </script>\n",
              "    </div>\n",
              "  </div>\n",
              "  "
            ]
          },
          "metadata": {},
          "execution_count": 22
        }
      ]
    },
    {
      "cell_type": "code",
      "source": [
        "X = data.iloc[:, :-1]\n",
        "y = data.iloc[:,-1]\n",
        "X.shape, y.shape"
      ],
      "metadata": {
        "colab": {
          "base_uri": "https://localhost:8080/"
        },
        "id": "28XcxXVGEafw",
        "outputId": "c2ec79a8-5859-48eb-e873-4bf74bd3c34d"
      },
      "execution_count": 28,
      "outputs": [
        {
          "output_type": "execute_result",
          "data": {
            "text/plain": [
              "((937, 49), (937,))"
            ]
          },
          "metadata": {},
          "execution_count": 28
        }
      ]
    },
    {
      "cell_type": "code",
      "source": [
        "transform = VarianceThreshold()\n",
        "X_sel = transform.fit_transform(X)\n",
        "X_sel.shape"
      ],
      "metadata": {
        "colab": {
          "base_uri": "https://localhost:8080/"
        },
        "id": "YVaw95_sEacj",
        "outputId": "b9e4c48d-68be-4f48-c9ea-edeea23f90bd"
      },
      "execution_count": 29,
      "outputs": [
        {
          "output_type": "execute_result",
          "data": {
            "text/plain": [
              "(937, 48)"
            ]
          },
          "metadata": {},
          "execution_count": 29
        }
      ]
    },
    {
      "cell_type": "code",
      "source": [
        "import numpy as np\n",
        "thresholds = np.arange(0.0, 0.55, 0.05)"
      ],
      "metadata": {
        "id": "Yy2e6heOEaZP"
      },
      "execution_count": 30,
      "outputs": []
    },
    {
      "cell_type": "code",
      "source": [
        "results = list()\n",
        "for t in thresholds:\n",
        "  transform = VarianceThreshold(threshold=t)\n",
        "  X_sel = transform.fit_transform(X)\n",
        "  n_features = X_sel.shape[1]\n",
        "  results.append(n_features)\n",
        "  print(f\">Threshold={t:.2f}, Features={n_features}\")"
      ],
      "metadata": {
        "colab": {
          "base_uri": "https://localhost:8080/"
        },
        "id": "3Ch4lT2XIw8t",
        "outputId": "750de50e-ad4f-4eeb-dcb8-16581e2c302d"
      },
      "execution_count": 34,
      "outputs": [
        {
          "output_type": "stream",
          "name": "stdout",
          "text": [
            ">Threshold=0.00, Features=48\n",
            ">Threshold=0.05, Features=37\n",
            ">Threshold=0.10, Features=36\n",
            ">Threshold=0.15, Features=35\n",
            ">Threshold=0.20, Features=35\n",
            ">Threshold=0.25, Features=35\n",
            ">Threshold=0.30, Features=35\n",
            ">Threshold=0.35, Features=35\n",
            ">Threshold=0.40, Features=35\n",
            ">Threshold=0.45, Features=33\n",
            ">Threshold=0.50, Features=31\n"
          ]
        }
      ]
    },
    {
      "cell_type": "markdown",
      "source": [
        "## 5. Identify rows that contain duplicate data"
      ],
      "metadata": {
        "id": "gR5gIEG18UzW"
      }
    },
    {
      "cell_type": "code",
      "source": [
        "iris_path = \"https://raw.githubusercontent.com/jbrownlee/Datasets/master/iris.csv\"\n",
        "iris = pd.read_csv(iris_path, header=None)\n",
        "iris.head()"
      ],
      "metadata": {
        "colab": {
          "base_uri": "https://localhost:8080/",
          "height": 206
        },
        "id": "ExMLeTiM8nMF",
        "outputId": "54ed4454-9cfe-43b8-ca81-57d8dcda8e54"
      },
      "execution_count": 9,
      "outputs": [
        {
          "output_type": "execute_result",
          "data": {
            "text/plain": [
              "     0    1    2    3            4\n",
              "0  5.1  3.5  1.4  0.2  Iris-setosa\n",
              "1  4.9  3.0  1.4  0.2  Iris-setosa\n",
              "2  4.7  3.2  1.3  0.2  Iris-setosa\n",
              "3  4.6  3.1  1.5  0.2  Iris-setosa\n",
              "4  5.0  3.6  1.4  0.2  Iris-setosa"
            ],
            "text/html": [
              "\n",
              "  <div id=\"df-c20ebfb5-28c3-4422-ace8-7643b980c288\">\n",
              "    <div class=\"colab-df-container\">\n",
              "      <div>\n",
              "<style scoped>\n",
              "    .dataframe tbody tr th:only-of-type {\n",
              "        vertical-align: middle;\n",
              "    }\n",
              "\n",
              "    .dataframe tbody tr th {\n",
              "        vertical-align: top;\n",
              "    }\n",
              "\n",
              "    .dataframe thead th {\n",
              "        text-align: right;\n",
              "    }\n",
              "</style>\n",
              "<table border=\"1\" class=\"dataframe\">\n",
              "  <thead>\n",
              "    <tr style=\"text-align: right;\">\n",
              "      <th></th>\n",
              "      <th>0</th>\n",
              "      <th>1</th>\n",
              "      <th>2</th>\n",
              "      <th>3</th>\n",
              "      <th>4</th>\n",
              "    </tr>\n",
              "  </thead>\n",
              "  <tbody>\n",
              "    <tr>\n",
              "      <th>0</th>\n",
              "      <td>5.1</td>\n",
              "      <td>3.5</td>\n",
              "      <td>1.4</td>\n",
              "      <td>0.2</td>\n",
              "      <td>Iris-setosa</td>\n",
              "    </tr>\n",
              "    <tr>\n",
              "      <th>1</th>\n",
              "      <td>4.9</td>\n",
              "      <td>3.0</td>\n",
              "      <td>1.4</td>\n",
              "      <td>0.2</td>\n",
              "      <td>Iris-setosa</td>\n",
              "    </tr>\n",
              "    <tr>\n",
              "      <th>2</th>\n",
              "      <td>4.7</td>\n",
              "      <td>3.2</td>\n",
              "      <td>1.3</td>\n",
              "      <td>0.2</td>\n",
              "      <td>Iris-setosa</td>\n",
              "    </tr>\n",
              "    <tr>\n",
              "      <th>3</th>\n",
              "      <td>4.6</td>\n",
              "      <td>3.1</td>\n",
              "      <td>1.5</td>\n",
              "      <td>0.2</td>\n",
              "      <td>Iris-setosa</td>\n",
              "    </tr>\n",
              "    <tr>\n",
              "      <th>4</th>\n",
              "      <td>5.0</td>\n",
              "      <td>3.6</td>\n",
              "      <td>1.4</td>\n",
              "      <td>0.2</td>\n",
              "      <td>Iris-setosa</td>\n",
              "    </tr>\n",
              "  </tbody>\n",
              "</table>\n",
              "</div>\n",
              "      <button class=\"colab-df-convert\" onclick=\"convertToInteractive('df-c20ebfb5-28c3-4422-ace8-7643b980c288')\"\n",
              "              title=\"Convert this dataframe to an interactive table.\"\n",
              "              style=\"display:none;\">\n",
              "        \n",
              "  <svg xmlns=\"http://www.w3.org/2000/svg\" height=\"24px\"viewBox=\"0 0 24 24\"\n",
              "       width=\"24px\">\n",
              "    <path d=\"M0 0h24v24H0V0z\" fill=\"none\"/>\n",
              "    <path d=\"M18.56 5.44l.94 2.06.94-2.06 2.06-.94-2.06-.94-.94-2.06-.94 2.06-2.06.94zm-11 1L8.5 8.5l.94-2.06 2.06-.94-2.06-.94L8.5 2.5l-.94 2.06-2.06.94zm10 10l.94 2.06.94-2.06 2.06-.94-2.06-.94-.94-2.06-.94 2.06-2.06.94z\"/><path d=\"M17.41 7.96l-1.37-1.37c-.4-.4-.92-.59-1.43-.59-.52 0-1.04.2-1.43.59L10.3 9.45l-7.72 7.72c-.78.78-.78 2.05 0 2.83L4 21.41c.39.39.9.59 1.41.59.51 0 1.02-.2 1.41-.59l7.78-7.78 2.81-2.81c.8-.78.8-2.07 0-2.86zM5.41 20L4 18.59l7.72-7.72 1.47 1.35L5.41 20z\"/>\n",
              "  </svg>\n",
              "      </button>\n",
              "      \n",
              "  <style>\n",
              "    .colab-df-container {\n",
              "      display:flex;\n",
              "      flex-wrap:wrap;\n",
              "      gap: 12px;\n",
              "    }\n",
              "\n",
              "    .colab-df-convert {\n",
              "      background-color: #E8F0FE;\n",
              "      border: none;\n",
              "      border-radius: 50%;\n",
              "      cursor: pointer;\n",
              "      display: none;\n",
              "      fill: #1967D2;\n",
              "      height: 32px;\n",
              "      padding: 0 0 0 0;\n",
              "      width: 32px;\n",
              "    }\n",
              "\n",
              "    .colab-df-convert:hover {\n",
              "      background-color: #E2EBFA;\n",
              "      box-shadow: 0px 1px 2px rgba(60, 64, 67, 0.3), 0px 1px 3px 1px rgba(60, 64, 67, 0.15);\n",
              "      fill: #174EA6;\n",
              "    }\n",
              "\n",
              "    [theme=dark] .colab-df-convert {\n",
              "      background-color: #3B4455;\n",
              "      fill: #D2E3FC;\n",
              "    }\n",
              "\n",
              "    [theme=dark] .colab-df-convert:hover {\n",
              "      background-color: #434B5C;\n",
              "      box-shadow: 0px 1px 3px 1px rgba(0, 0, 0, 0.15);\n",
              "      filter: drop-shadow(0px 1px 2px rgba(0, 0, 0, 0.3));\n",
              "      fill: #FFFFFF;\n",
              "    }\n",
              "  </style>\n",
              "\n",
              "      <script>\n",
              "        const buttonEl =\n",
              "          document.querySelector('#df-c20ebfb5-28c3-4422-ace8-7643b980c288 button.colab-df-convert');\n",
              "        buttonEl.style.display =\n",
              "          google.colab.kernel.accessAllowed ? 'block' : 'none';\n",
              "\n",
              "        async function convertToInteractive(key) {\n",
              "          const element = document.querySelector('#df-c20ebfb5-28c3-4422-ace8-7643b980c288');\n",
              "          const dataTable =\n",
              "            await google.colab.kernel.invokeFunction('convertToInteractive',\n",
              "                                                     [key], {});\n",
              "          if (!dataTable) return;\n",
              "\n",
              "          const docLinkHtml = 'Like what you see? Visit the ' +\n",
              "            '<a target=\"_blank\" href=https://colab.research.google.com/notebooks/data_table.ipynb>data table notebook</a>'\n",
              "            + ' to learn more about interactive tables.';\n",
              "          element.innerHTML = '';\n",
              "          dataTable['output_type'] = 'display_data';\n",
              "          await google.colab.output.renderOutput(dataTable, element);\n",
              "          const docLink = document.createElement('div');\n",
              "          docLink.innerHTML = docLinkHtml;\n",
              "          element.appendChild(docLink);\n",
              "        }\n",
              "      </script>\n",
              "    </div>\n",
              "  </div>\n",
              "  "
            ]
          },
          "metadata": {},
          "execution_count": 9
        }
      ]
    },
    {
      "cell_type": "code",
      "source": [
        "dups = iris.duplicated()\n",
        "print(dups.any())"
      ],
      "metadata": {
        "colab": {
          "base_uri": "https://localhost:8080/"
        },
        "id": "DaO-_RXiA449",
        "outputId": "7a95ec50-7d9f-41c5-bcfa-0be99ec71fdf"
      },
      "execution_count": 10,
      "outputs": [
        {
          "output_type": "stream",
          "name": "stdout",
          "text": [
            "True\n"
          ]
        }
      ]
    },
    {
      "cell_type": "code",
      "source": [
        "iris[dups]"
      ],
      "metadata": {
        "colab": {
          "base_uri": "https://localhost:8080/",
          "height": 143
        },
        "id": "eFvBhuaOA4cO",
        "outputId": "6af76f68-a353-4cbf-fe77-1549593ff634"
      },
      "execution_count": 11,
      "outputs": [
        {
          "output_type": "execute_result",
          "data": {
            "text/plain": [
              "       0    1    2    3               4\n",
              "34   4.9  3.1  1.5  0.1     Iris-setosa\n",
              "37   4.9  3.1  1.5  0.1     Iris-setosa\n",
              "142  5.8  2.7  5.1  1.9  Iris-virginica"
            ],
            "text/html": [
              "\n",
              "  <div id=\"df-873b0ff5-0e31-492f-9901-c16b57922fa0\">\n",
              "    <div class=\"colab-df-container\">\n",
              "      <div>\n",
              "<style scoped>\n",
              "    .dataframe tbody tr th:only-of-type {\n",
              "        vertical-align: middle;\n",
              "    }\n",
              "\n",
              "    .dataframe tbody tr th {\n",
              "        vertical-align: top;\n",
              "    }\n",
              "\n",
              "    .dataframe thead th {\n",
              "        text-align: right;\n",
              "    }\n",
              "</style>\n",
              "<table border=\"1\" class=\"dataframe\">\n",
              "  <thead>\n",
              "    <tr style=\"text-align: right;\">\n",
              "      <th></th>\n",
              "      <th>0</th>\n",
              "      <th>1</th>\n",
              "      <th>2</th>\n",
              "      <th>3</th>\n",
              "      <th>4</th>\n",
              "    </tr>\n",
              "  </thead>\n",
              "  <tbody>\n",
              "    <tr>\n",
              "      <th>34</th>\n",
              "      <td>4.9</td>\n",
              "      <td>3.1</td>\n",
              "      <td>1.5</td>\n",
              "      <td>0.1</td>\n",
              "      <td>Iris-setosa</td>\n",
              "    </tr>\n",
              "    <tr>\n",
              "      <th>37</th>\n",
              "      <td>4.9</td>\n",
              "      <td>3.1</td>\n",
              "      <td>1.5</td>\n",
              "      <td>0.1</td>\n",
              "      <td>Iris-setosa</td>\n",
              "    </tr>\n",
              "    <tr>\n",
              "      <th>142</th>\n",
              "      <td>5.8</td>\n",
              "      <td>2.7</td>\n",
              "      <td>5.1</td>\n",
              "      <td>1.9</td>\n",
              "      <td>Iris-virginica</td>\n",
              "    </tr>\n",
              "  </tbody>\n",
              "</table>\n",
              "</div>\n",
              "      <button class=\"colab-df-convert\" onclick=\"convertToInteractive('df-873b0ff5-0e31-492f-9901-c16b57922fa0')\"\n",
              "              title=\"Convert this dataframe to an interactive table.\"\n",
              "              style=\"display:none;\">\n",
              "        \n",
              "  <svg xmlns=\"http://www.w3.org/2000/svg\" height=\"24px\"viewBox=\"0 0 24 24\"\n",
              "       width=\"24px\">\n",
              "    <path d=\"M0 0h24v24H0V0z\" fill=\"none\"/>\n",
              "    <path d=\"M18.56 5.44l.94 2.06.94-2.06 2.06-.94-2.06-.94-.94-2.06-.94 2.06-2.06.94zm-11 1L8.5 8.5l.94-2.06 2.06-.94-2.06-.94L8.5 2.5l-.94 2.06-2.06.94zm10 10l.94 2.06.94-2.06 2.06-.94-2.06-.94-.94-2.06-.94 2.06-2.06.94z\"/><path d=\"M17.41 7.96l-1.37-1.37c-.4-.4-.92-.59-1.43-.59-.52 0-1.04.2-1.43.59L10.3 9.45l-7.72 7.72c-.78.78-.78 2.05 0 2.83L4 21.41c.39.39.9.59 1.41.59.51 0 1.02-.2 1.41-.59l7.78-7.78 2.81-2.81c.8-.78.8-2.07 0-2.86zM5.41 20L4 18.59l7.72-7.72 1.47 1.35L5.41 20z\"/>\n",
              "  </svg>\n",
              "      </button>\n",
              "      \n",
              "  <style>\n",
              "    .colab-df-container {\n",
              "      display:flex;\n",
              "      flex-wrap:wrap;\n",
              "      gap: 12px;\n",
              "    }\n",
              "\n",
              "    .colab-df-convert {\n",
              "      background-color: #E8F0FE;\n",
              "      border: none;\n",
              "      border-radius: 50%;\n",
              "      cursor: pointer;\n",
              "      display: none;\n",
              "      fill: #1967D2;\n",
              "      height: 32px;\n",
              "      padding: 0 0 0 0;\n",
              "      width: 32px;\n",
              "    }\n",
              "\n",
              "    .colab-df-convert:hover {\n",
              "      background-color: #E2EBFA;\n",
              "      box-shadow: 0px 1px 2px rgba(60, 64, 67, 0.3), 0px 1px 3px 1px rgba(60, 64, 67, 0.15);\n",
              "      fill: #174EA6;\n",
              "    }\n",
              "\n",
              "    [theme=dark] .colab-df-convert {\n",
              "      background-color: #3B4455;\n",
              "      fill: #D2E3FC;\n",
              "    }\n",
              "\n",
              "    [theme=dark] .colab-df-convert:hover {\n",
              "      background-color: #434B5C;\n",
              "      box-shadow: 0px 1px 3px 1px rgba(0, 0, 0, 0.15);\n",
              "      filter: drop-shadow(0px 1px 2px rgba(0, 0, 0, 0.3));\n",
              "      fill: #FFFFFF;\n",
              "    }\n",
              "  </style>\n",
              "\n",
              "      <script>\n",
              "        const buttonEl =\n",
              "          document.querySelector('#df-873b0ff5-0e31-492f-9901-c16b57922fa0 button.colab-df-convert');\n",
              "        buttonEl.style.display =\n",
              "          google.colab.kernel.accessAllowed ? 'block' : 'none';\n",
              "\n",
              "        async function convertToInteractive(key) {\n",
              "          const element = document.querySelector('#df-873b0ff5-0e31-492f-9901-c16b57922fa0');\n",
              "          const dataTable =\n",
              "            await google.colab.kernel.invokeFunction('convertToInteractive',\n",
              "                                                     [key], {});\n",
              "          if (!dataTable) return;\n",
              "\n",
              "          const docLinkHtml = 'Like what you see? Visit the ' +\n",
              "            '<a target=\"_blank\" href=https://colab.research.google.com/notebooks/data_table.ipynb>data table notebook</a>'\n",
              "            + ' to learn more about interactive tables.';\n",
              "          element.innerHTML = '';\n",
              "          dataTable['output_type'] = 'display_data';\n",
              "          await google.colab.output.renderOutput(dataTable, element);\n",
              "          const docLink = document.createElement('div');\n",
              "          docLink.innerHTML = docLinkHtml;\n",
              "          element.appendChild(docLink);\n",
              "        }\n",
              "      </script>\n",
              "    </div>\n",
              "  </div>\n",
              "  "
            ]
          },
          "metadata": {},
          "execution_count": 11
        }
      ]
    },
    {
      "cell_type": "markdown",
      "source": [
        "## 6. Delete rows that contain duplicate data"
      ],
      "metadata": {
        "id": "Dct_I0h-8gE1"
      }
    },
    {
      "cell_type": "code",
      "execution_count": 12,
      "metadata": {
        "colab": {
          "base_uri": "https://localhost:8080/"
        },
        "id": "2MfDulsm67_C",
        "outputId": "63e1cd9c-3950-4bb1-8611-c206389b7aeb"
      },
      "outputs": [
        {
          "output_type": "execute_result",
          "data": {
            "text/plain": [
              "(150, 5)"
            ]
          },
          "metadata": {},
          "execution_count": 12
        }
      ],
      "source": [
        "iris.shape"
      ]
    },
    {
      "cell_type": "code",
      "source": [
        "iris.drop_duplicates(inplace=True)\n",
        "iris.shape"
      ],
      "metadata": {
        "colab": {
          "base_uri": "https://localhost:8080/"
        },
        "id": "V3rffmrNBVDm",
        "outputId": "4515ab4a-f1bb-4622-8417-baeadbcb8613"
      },
      "execution_count": 13,
      "outputs": [
        {
          "output_type": "execute_result",
          "data": {
            "text/plain": [
              "(147, 5)"
            ]
          },
          "metadata": {},
          "execution_count": 13
        }
      ]
    },
    {
      "cell_type": "code",
      "source": [],
      "metadata": {
        "id": "1bCfZDegBdEk"
      },
      "execution_count": null,
      "outputs": []
    }
  ]
}