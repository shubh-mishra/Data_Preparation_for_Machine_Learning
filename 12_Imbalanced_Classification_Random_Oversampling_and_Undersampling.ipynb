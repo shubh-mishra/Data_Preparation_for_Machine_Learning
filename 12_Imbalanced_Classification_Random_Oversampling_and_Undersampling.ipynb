{
  "nbformat": 4,
  "nbformat_minor": 0,
  "metadata": {
    "colab": {
      "provenance": []
    },
    "kernelspec": {
      "name": "python3",
      "display_name": "Python 3"
    },
    "language_info": {
      "name": "python"
    }
  },
  "cells": [
    {
      "cell_type": "markdown",
      "source": [
        "# Imbalanced Classification - Undersampling and Oversampling"
      ],
      "metadata": {
        "id": "oioQuCf3CS5q"
      }
    },
    {
      "cell_type": "markdown",
      "source": [
        "## 0. Introduction\n",
        "\n",
        "This notebook contains:\n",
        "  1. Random Oversampling\n",
        "  2. Random Undersampling\n",
        "  3. Combined random oversampling and oversampling\n"
      ],
      "metadata": {
        "id": "xnAF2VQpCpam"
      }
    },
    {
      "cell_type": "markdown",
      "source": [
        "## 2. Random Oversampling"
      ],
      "metadata": {
        "id": "4b9LHYA7DmFd"
      }
    },
    {
      "cell_type": "code",
      "execution_count": 1,
      "metadata": {
        "id": "3O1grt_qB0Ih"
      },
      "outputs": [],
      "source": [
        "import pandas as pd\n",
        "import numpy as np\n",
        "from sklearn.datasets import make_classification\n",
        "from sklearn.model_selection import RepeatedStratifiedKFold, cross_val_score\n",
        "from sklearn.tree import DecisionTreeClassifier\n",
        "from imblearn.pipeline import Pipeline\n",
        "from imblearn.over_sampling import RandomOverSampler"
      ]
    },
    {
      "cell_type": "code",
      "source": [
        "X, y = make_classification(n_samples=10000, weights=[0.99], flip_y=0)\n",
        "cv = RepeatedStratifiedKFold(n_splits=10, n_repeats=3, random_state=42)\n",
        "model = DecisionTreeClassifier()\n",
        "over = RandomOverSampler()\n",
        "pipeline = Pipeline(steps=[\n",
        "    ('over', over),\n",
        "    ('m', model)\n",
        "])\n",
        "n_scores = cross_val_score(pipeline, X, y, scoring='f1_micro', cv=cv, n_jobs=-1, error_score='raise')\n",
        "print(f\"F1 Score: {np.mean(n_scores):.2f} ({np.std(n_scores):.2f})\")"
      ],
      "metadata": {
        "colab": {
          "base_uri": "https://localhost:8080/"
        },
        "id": "IuarNLBCGEK1",
        "outputId": "b7f98b67-fc0d-4d61-caf1-724f47cf6766"
      },
      "execution_count": 6,
      "outputs": [
        {
          "output_type": "stream",
          "name": "stdout",
          "text": [
            "F1 Score: 0.99 (0.00)\n"
          ]
        }
      ]
    },
    {
      "cell_type": "markdown",
      "source": [
        "# 3. Random Undersampling"
      ],
      "metadata": {
        "id": "fXaU0-erL2Dh"
      }
    },
    {
      "cell_type": "code",
      "source": [
        "from imblearn.under_sampling import RandomUnderSampler"
      ],
      "metadata": {
        "id": "qj800C_FKQm1"
      },
      "execution_count": 3,
      "outputs": []
    },
    {
      "cell_type": "code",
      "source": [
        "X, y = make_classification(n_samples=10000, weights=[0.99], flip_y=0)\n",
        "under = RandomUnderSampler()\n",
        "model = DecisionTreeClassifier()\n",
        "pipeline = Pipeline(steps=[\n",
        "    ('u', under),\n",
        "    ('m', model)\n",
        "])\n",
        "cv = RepeatedStratifiedKFold(n_splits=10, n_repeats=10, random_state=42)\n",
        "n_scores = cross_val_score(pipeline, X, y, scoring='f1_micro', cv=cv, n_jobs=-1, error_score='raise')\n",
        "print(f\"F1 Score: {np.mean(n_scores):.2f} ({np.std(n_scores):.2f})\")"
      ],
      "metadata": {
        "colab": {
          "base_uri": "https://localhost:8080/"
        },
        "id": "6_yW1dm3MCKy",
        "outputId": "2203045f-ba4e-4c3a-efa3-6ee9e0cadff8"
      },
      "execution_count": 7,
      "outputs": [
        {
          "output_type": "stream",
          "name": "stdout",
          "text": [
            "F1 Score: 0.94 (0.02)\n"
          ]
        }
      ]
    },
    {
      "cell_type": "markdown",
      "source": [
        "## 3. Combining oversampling and undersampling"
      ],
      "metadata": {
        "id": "kwq4KAMwO7By"
      }
    },
    {
      "cell_type": "code",
      "source": [
        "X, y = make_classification(n_samples=10000, weights=[0.99], flip_y=0)\n",
        "under = RandomUnderSampler(sampling_strategy=0.5)\n",
        "over = RandomOverSampler(sampling_strategy=0.1)\n",
        "model = DecisionTreeClassifier()\n",
        "pipeline = Pipeline(steps=[\n",
        "    ('o', over),\n",
        "    ('u', under),\n",
        "    ('m', model)\n",
        "])\n",
        "cv = RepeatedStratifiedKFold(n_splits=10, n_repeats=10, random_state=42)\n",
        "n_scores = cross_val_score(pipeline, X, y, scoring='f1_micro', cv=cv, n_jobs=-1, error_score='raise')\n",
        "print(f\"F1 Score: {np.mean(n_scores):.2f} ({np.std(n_scores):.2f})\")"
      ],
      "metadata": {
        "colab": {
          "base_uri": "https://localhost:8080/"
        },
        "id": "bADd7agwOCsP",
        "outputId": "0eddcf6e-0171-4628-9121-1ba8d14df8f0"
      },
      "execution_count": 8,
      "outputs": [
        {
          "output_type": "stream",
          "name": "stdout",
          "text": [
            "F1 Score: 0.98 (0.01)\n"
          ]
        }
      ]
    },
    {
      "cell_type": "code",
      "source": [],
      "metadata": {
        "id": "y_VmXmaDPcP5"
      },
      "execution_count": null,
      "outputs": []
    }
  ]
}